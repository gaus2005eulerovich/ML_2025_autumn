{
  "cells": [
    {
      "cell_type": "markdown",
      "metadata": {
        "id": "UpLNvLISmZlP"
      },
      "source": [
        "# Домашнее задание 2 - предобработка признаков, pandas\n",
        "\n",
        "\n",
        "### О задании\n",
        "\n",
        "Практическое задание 2 посвящено изучению основных библиотек для анализа данных, а также линейных моделей и методов их обучения. Вы научитесь:\n",
        " * применять библиотеки NumPy и Pandas для осуществления желаемых преобразований;\n",
        " * подготавливать данные для обучения линейных моделей;\n",
        " * обучать линейную, Lasso и Ridge-регрессии при помощи модуля scikit-learn;\n",
        " * реализовывать обычный и стохастический градиентные спуски;\n",
        " * обучать линейную регрессию для произвольного функционала качества.\n",
        "\n",
        "\n",
        "### Оценивание и штрафы\n",
        "\n",
        "Каждая из задач имеет определенную «стоимость» (указана в скобках около задачи). Максимально допустимая оценка за работу — 10 баллов. Кроме того, некоторые из заданий являются опциональными (необязательными), однако за их выполнение можно получить дополнительные баллы, которые позднее будут учитываться при проставлении оценок автоматом по курсу.\n",
        "\n",
        "Сдавать задание после указанного срока сдачи нельзя. При выставлении неполного балла за задание в связи с наличием ошибок на усмотрение проверяющего предусмотрена возможность исправить работу на указанных в ответном письме условиях.\n",
        "\n",
        "Задание выполняется самостоятельно. «Похожие» решения считаются плагиатом и все задействованные студенты (в том числе те, у кого списали) не могут получить за него больше 0 баллов. Если вы нашли решение какого-то из заданий (или его часть) в открытом источнике, необходимо указать ссылку на этот источник в отдельном блоке в конце Вашей работы (скорее всего вы будете не единственным, кто это нашел, поэтому чтобы исключить подозрение в плагиате, необходима ссылка на источник).\n",
        "\n",
        "Неэффективная реализация кода может негативно отразиться на оценке.\n",
        "\n",
        "\n",
        "### Формат сдачи\n",
        "Для сдачи задания получившийся файл \\*.ipynb с решением необходимо выложить в свой репозиторий github."
      ]
    },
    {
      "cell_type": "markdown",
      "metadata": {
        "id": "DXxsWzCpmZlV"
      },
      "source": [
        "## Библиотеки для анализа данных\n",
        "\n",
        "### NumPy\n",
        "\n",
        "Во всех заданиях данного раздела запрещено использовать циклы  и list comprehensions. Под вектором и матрицей в данных заданиях понимается одномерный и двумерный numpy.array соответственно."
      ]
    },
    {
      "cell_type": "code",
      "execution_count": 9,
      "metadata": {
        "id": "seaYg4DRmZlX"
      },
      "outputs": [],
      "source": [
        "import numpy as np"
      ]
    },
    {
      "cell_type": "markdown",
      "metadata": {
        "id": "DEQY5ZcdmZle"
      },
      "source": [
        "**1. (0.2 балла)** Реализуйте функцию, возвращающую максимальный элемент в векторе x среди элементов, перед которыми стоит нулевой. Для x = np.array([6, 2, 0, 3, 0, 0, 5, 7, 0]) ответом является 5. Если нулевых элементов нет, функция должна возвращать None.\n"
      ]
    },
    {
      "cell_type": "code",
      "execution_count": 10,
      "metadata": {
        "colab": {
          "base_uri": "https://localhost:8080/"
        },
        "id": "bXYoWWH0mZlf",
        "outputId": "560a401a-0a34-4a93-9ca4-7bf1564613f6"
      },
      "outputs": [
        {
          "output_type": "stream",
          "name": "stdout",
          "text": [
            "5\n"
          ]
        }
      ],
      "source": [
        "def max_element(arr):\n",
        "    max_val = None\n",
        "    for i in range(1, len(arr)):\n",
        "        if arr[i-1] == 0:\n",
        "            if max_val is None or arr[i] > max_val:\n",
        "                max_val = arr[i]\n",
        "    return max_val\n",
        "print(max_element([6, 2, 0, 3, 0, 0, 5, 7, 0]))"
      ]
    },
    {
      "cell_type": "markdown",
      "metadata": {
        "id": "l2IYE3-emZlg"
      },
      "source": [
        "**2. (0.2 балла)** Реализуйте функцию, принимающую на вход матрицу и некоторое число и возвращающую ближайший к числу элемент матрицы. Например: для X = np.arange(0,10).reshape((2, 5)) и v = 3.6 ответом будет 4."
      ]
    },
    {
      "cell_type": "code",
      "execution_count": 11,
      "metadata": {
        "collapsed": true,
        "colab": {
          "base_uri": "https://localhost:8080/"
        },
        "id": "Yao_3n2MmZlh",
        "outputId": "d392de3a-ddcf-4115-fa64-45deb1c66fe4"
      },
      "outputs": [
        {
          "output_type": "stream",
          "name": "stdout",
          "text": [
            "4\n"
          ]
        }
      ],
      "source": [
        "def nearest_value(X, v):\n",
        "    idx = np.abs(X - v).argmin()\n",
        "    return X.flat[idx]\n",
        "\n",
        "X = np.arange(0, 10).reshape((2, 5))\n",
        "v = 3.6\n",
        "print(nearest_value(X, v))"
      ]
    },
    {
      "cell_type": "markdown",
      "metadata": {
        "id": "s0djwbv9mZlh"
      },
      "source": [
        "**3. (0.2 балла)** Реализуйте функцию scale(X), которая принимает на вход матрицу и масштабирует каждый ее столбец (вычитает выборочное среднее и делит на стандартное отклонение). Убедитесь, что в функции не будет происходить деления на ноль. Протестируйте на случайной матрице (для её генерации можно использовать, например, функцию [numpy.random.randint](http://docs.scipy.org/doc/numpy/reference/generated/numpy.random.randint.html))."
      ]
    },
    {
      "cell_type": "code",
      "execution_count": 12,
      "metadata": {
        "collapsed": true,
        "colab": {
          "base_uri": "https://localhost:8080/"
        },
        "id": "GW6gj71TmZli",
        "outputId": "826c86c6-92a4-4d9c-e727-24c2c68761b6"
      },
      "outputs": [
        {
          "output_type": "stream",
          "name": "stdout",
          "text": [
            "[[ 1.65027399  1.16666667  0.69006556 -1.06133726 -0.16552118]\n",
            " [ 0.10314212 -1.33333333 -1.38013112 -1.06133726 -1.40693001]\n",
            " [ 0.10314212  1.16666667  0.69006556  0.0758098   1.4896906 ]\n",
            " [-0.4125685  -0.5         1.03509834  0.45485883  0.66208471]\n",
            " [-1.44398974 -0.5        -1.03509834  1.59200589 -0.57932412]]\n"
          ]
        }
      ],
      "source": [
        "def scale(X):\n",
        "    means = X.mean(axis=0)\n",
        "    stds = X.std(axis=0)\n",
        "    stds[stds == 0] = 1\n",
        "    return (X - means) / stds\n",
        "\n",
        "X = np.random.randint(0, 10, size=(5, 5))\n",
        "print(scale(X))"
      ]
    },
    {
      "cell_type": "markdown",
      "metadata": {
        "id": "wGhi-yi5mZlj"
      },
      "source": [
        "**4. (0.2 балла)** Реализуйте функцию, которая для заданной матрицы находит:\n",
        " - определитель\n",
        " - след\n",
        " - наименьший и наибольший элементы\n",
        " - норму Фробениуса\n",
        " - собственные числа\n",
        " - обратную матрицу\n",
        "\n",
        "Для тестирования сгенерируйте матрицу с элементами из нормального распределения $\\mathcal{N}$(10,1)"
      ]
    },
    {
      "cell_type": "code",
      "execution_count": 13,
      "metadata": {
        "colab": {
          "base_uri": "https://localhost:8080/"
        },
        "id": "DOYHR_LnmZlk",
        "outputId": "baddf442-bd43-4bee-c5ab-34cacdf7656e"
      },
      "outputs": [
        {
          "output_type": "stream",
          "name": "stdout",
          "text": [
            "(np.float64(-8173.999999999999), np.int64(22), np.int64(0), np.int64(9), np.float64(26.40075756488817), array([19.74624825+0.j        , -5.57285036+0.j        ,\n",
            "        1.62592083+3.68691276j,  1.62592083-3.68691276j,\n",
            "        4.57476046+0.j        ]), array([[ 0.04673355, -0.07413751,  0.09028627,  0.01394666, -0.11866895],\n",
            "       [ 0.13004649,  0.13139222,  0.06275997, -0.1732322 , -0.13126988],\n",
            "       [-0.35258136,  0.02006362,  0.01517005,  0.30315635,  0.10472229],\n",
            "       [-0.02887203,  0.03009542,  0.02275508, -0.04526548,  0.15708344],\n",
            "       [-0.01676046, -0.05456325, -0.12662099,  0.13897724,  0.14203572]]))\n"
          ]
        }
      ],
      "source": [
        "def get_stats(X):\n",
        "    det = np.linalg.det(X)\n",
        "    trace = np.trace(X)\n",
        "    min_elem = X.min()\n",
        "    max_elem = X.max()\n",
        "    frobenius_norm = np.linalg.norm(X, 'fro')\n",
        "    eigvals = np.linalg.eigvals(X)\n",
        "    inv_mat = None\n",
        "    if det != 0:\n",
        "        inv_mat = np.linalg.inv(X)\n",
        "    return det, trace, min_elem, max_elem, frobenius_norm, eigvals, inv_mat\n",
        "\n",
        "X = np.random.randint(0, 10, size=(5, 5))\n",
        "print(get_stats(X))"
      ]
    },
    {
      "cell_type": "markdown",
      "metadata": {
        "id": "PrW8bu9wmZll"
      },
      "source": [
        "**5. (0.2 балла)** Повторите 100 раз следующий эксперимент: сгенерируйте две матрицы размера 10×10 из стандартного нормального распределения, перемножьте их (как матрицы) и найдите максимальный элемент. Какое среднее значение по экспериментам у максимальных элементов? 95-процентная квантиль?"
      ]
    },
    {
      "cell_type": "code",
      "source": [
        "\n",
        "#np.random.seed(0)\n",
        "\n",
        "max_elements = []\n",
        "\n",
        "for exp_num in range(100):\n",
        "    A = np.random.normal(size=(10,10))\n",
        "    B = np.random.normal(size=(10,10))\n",
        "    C = A @ B\n",
        "    max_elements.append(np.max(C))\n",
        "\n",
        "mean_max = np.mean(max_elements)\n",
        "q_95 = np.quantile(max_elements, 0.95)\n",
        "\n",
        "print(mean_max)\n",
        "print(q_95)"
      ],
      "metadata": {
        "colab": {
          "base_uri": "https://localhost:8080/"
        },
        "id": "zfwkrebXppHK",
        "outputId": "295465d9-32c7-4970-ed3d-86fa30947315"
      },
      "execution_count": 14,
      "outputs": [
        {
          "output_type": "stream",
          "name": "stdout",
          "text": [
            "8.384839177822396\n",
            "12.184076463889763\n"
          ]
        }
      ]
    },
    {
      "cell_type": "markdown",
      "metadata": {
        "id": "2WdRivbKmZln"
      },
      "source": [
        "### Pandas\n",
        "\n",
        "![](https://metrouk2.files.wordpress.com/2015/10/panda.jpg)\n",
        "\n",
        "#### Ответьте на вопросы о данных по авиарейсам в США за январь-апрель 2008 года.\n",
        "\n",
        "Данные находятся в приложенном файле `2008.csv`. Их [описание](http://stat-computing.org/dataexpo/2009/the-data.html) приведено ниже:"
      ]
    },
    {
      "cell_type": "markdown",
      "metadata": {
        "id": "bXr_7tc1mZln"
      },
      "source": [
        "Airline on-time performance\n",
        "\n",
        "Have you ever been stuck in an airport because your flight was delayed or cancelled and wondered if you could have predicted it if you'd had more data? This is your chance to find out.\n",
        "\n",
        "The data\n",
        "The data set is available for download here.\n",
        "The data consists of flight arrival and departure details for all commercial flights within the USA, from October 1987 to April 2008. This is a large dataset: there are nearly 120 million records in total, and takes up 1.6 gigabytes of space compressed and 12 gigabytes when uncompressed.\n",
        "\n",
        "Understanding and preparing the data\n",
        "In order to answer above questions, we are going to analyze the provided dataset, containing up to 1936758 ### different internal flights in the US for 2008 and their causes for delay, diversion and cancellation\n",
        "\n",
        "The data comes from the U.S. Department of Transportation’s (DOT) Bureau of Transportation Statistics (BTS). Meta data explanations\n",
        "\n",
        "This dataset is composed by the following variables:\n",
        "\n",
        "**Year** 2008 **Month** 1-12 **DayofMonth** 1-31 **DayOfWeek** 1 (Monday) - 7 (Sunday)  \n",
        "**DepTime** actual departure time (local, hhmm)  \n",
        "**CRSDepTime** scheduled departure time (local, hhmm)  \n",
        "**ArrTime** actual arrival time (local, hhmm)  \n",
        "**CRSArrTime** scheduled arrival time (local, hhmm)  \n",
        "**UniqueCarrier** unique carrier code  \n",
        "**FlightNum** flight number  \n",
        "**TailNum** plane tail number: aircraft registration, unique aircraft identifier  \n",
        "**ActualElapsedTime** in minutes  \n",
        "**CRSElapsedTime** in minutes  \n",
        "**AirTime** in minutes  \n",
        "**ArrDelay** arrival delay, in minutes: A flight is counted as “on time” if it operated less than 15 minutes later the scheduled time shown in the carriers’ Computerized Reservations Systems (CRS).  \n",
        "**DepDelay** departure delay, in minutes  \n",
        "**Origin** origin IATA airport code  \n",
        "**Dest** destination IATA airport code  \n",
        "**Distance** in miles  \n",
        "**TaxiIn** taxi in time, in minutes  \n",
        "**TaxiOut** taxi out time in minutes  \n",
        "**Cancelled** *was the flight cancelled  \n",
        "**CancellationCode** reason for cancellation (A = carrier, B = weather, C = NAS, D = security)  \n",
        "**Diverted** 1 = yes, 0 = no  \n",
        "**CarrierDelay** in minutes: Carrier delay is within the control of the air carrier. Examples of occurrences that may determine carrier delay are: aircraft cleaning, aircraft damage, awaiting the arrival of connecting passengers or crew, baggage, bird strike, cargo loading, catering, computer, outage-carrier equipment, crew legality (pilot or attendant rest), damage by hazardous goods, engineering inspection, fueling, handling disabled passengers, late crew, lavatory servicing, maintenance, oversales, potable water servicing, removal of unruly passenger, slow boarding or seating, stowing carry-on baggage, weight and balance delays.  \n",
        "**WeatherDelay** in minutes: Weather delay is caused by extreme or hazardous weather conditions that are forecasted or manifest themselves on point of departure, enroute, or on point of arrival.  \n",
        "**NASDelay** in minutes: Delay that is within the control of the National Airspace System (NAS) may include: non-extreme weather conditions, airport operations, heavy traffic volume, air traffic control, etc.  \n",
        "**SecurityDelay** in minutes: Security delay is caused by evacuation of a terminal or concourse, re-boarding of aircraft because of security breach, inoperative screening equipment and/or long lines in excess of 29 minutes at screening areas.  \n",
        "**LateAircraftDelay** in minutes: Arrival delay at an airport due to the late arrival of the same aircraft at a previous airport. The ripple effect of an earlier delay at downstream airports is referred to as delay propagation."
      ]
    },
    {
      "cell_type": "code",
      "execution_count": 15,
      "metadata": {
        "id": "LeacXBBCmZlo"
      },
      "outputs": [],
      "source": [
        "import pandas as pd\n",
        "%matplotlib inline"
      ]
    },
    {
      "cell_type": "code",
      "source": [
        "df = pd.read_csv('/content/2008 (1).csv')"
      ],
      "metadata": {
        "id": "HLqzwN7pqWMS"
      },
      "execution_count": 16,
      "outputs": []
    },
    {
      "cell_type": "markdown",
      "metadata": {
        "id": "b2aBF6jrmZlo"
      },
      "source": [
        "**6. (0.3 балла)** Какая из причин отмены рейса (`CancellationCode`) была самой частой? (расшифровки кодов можно найти в описании данных)"
      ]
    },
    {
      "cell_type": "code",
      "execution_count": 17,
      "metadata": {
        "colab": {
          "base_uri": "https://localhost:8080/"
        },
        "id": "_1tMri-1mZlp",
        "outputId": "5b703737-b456-4551-e1a6-2377a1f198a3"
      },
      "outputs": [
        {
          "output_type": "stream",
          "name": "stdout",
          "text": [
            "Самая частая причина отмены рейса: A — CarrierDelay\n",
            "Количество отмен по этой причине: 563\n"
          ]
        }
      ],
      "source": [
        "# Your code here\n",
        "code_meaning = {\n",
        "    'A': 'CarrierDelay',\n",
        "    'B': 'WeatherDelay',\n",
        "    'C': 'NASDelay',\n",
        "    'D': 'SecurityDelay',\n",
        "    'E': 'LateAircraftDelay'\n",
        "}\n",
        "counts = df['CancellationCode'].value_counts()\n",
        "\n",
        "most_common_code = counts.idxmax()\n",
        "most_common_reason = code_meaning.get(most_common_code, 'Unknown')\n",
        "\n",
        "print(f\"Самая частая причина отмены рейса: {most_common_code} — {most_common_reason}\")\n",
        "print(f\"Количество отмен по этой причине: {counts[most_common_code]}\")"
      ]
    },
    {
      "cell_type": "markdown",
      "metadata": {
        "id": "hrS38ZYtmZlp"
      },
      "source": [
        "**7. (0.3 балла)** Найдите среднее, минимальное и максимальное расстояние, пройденное самолетом."
      ]
    },
    {
      "cell_type": "code",
      "execution_count": 18,
      "metadata": {
        "collapsed": true,
        "colab": {
          "base_uri": "https://localhost:8080/"
        },
        "id": "0dkruxRFmZlq",
        "outputId": "703c6a83-fcdf-4b45-9495-f8ab4ddb03ff"
      },
      "outputs": [
        {
          "output_type": "stream",
          "name": "stdout",
          "text": [
            "724.5082571428571 31 4962\n"
          ]
        }
      ],
      "source": [
        "# Your code here\n",
        "mean_distance = df['Distance'].mean()\n",
        "min_distance = df['Distance'].min()\n",
        "max_distance = df['Distance'].max()\n",
        "\n",
        "print(mean_distance, min_distance, max_distance)"
      ]
    },
    {
      "cell_type": "markdown",
      "metadata": {
        "id": "isGNYRYXmZlq"
      },
      "source": [
        "**8. (0.3 балла)** Не выглядит ли подозрительным минимальное пройденное расстояние? В какие дни и на каких рейсах оно было? Какое расстояние было пройдено этими же рейсами в другие дни?"
      ]
    },
    {
      "cell_type": "code",
      "execution_count": 19,
      "metadata": {
        "collapsed": true,
        "colab": {
          "base_uri": "https://localhost:8080/"
        },
        "id": "CO_zhOWxmZlr",
        "outputId": "8be0fd88-7c81-4e58-8f1b-fdcd42431aa6"
      },
      "outputs": [
        {
          "output_type": "stream",
          "name": "stdout",
          "text": [
            "Рейсы с мин расстоянием:\n",
            "       Year  Month  DayofMonth  FlightNum  Distance\n",
            "1116   2008     12          30         65        31\n",
            "6958   2008     12          26         65        31\n",
            "17349  2008      8          18         64        31\n",
            "27534  2008      3          11         64        31\n",
            "46082  2008      8           9         65        31\n",
            "48112  2008      2          28         64        31\n"
          ]
        }
      ],
      "source": [
        "# Your code here\n",
        "min_distance = df['Distance'].min()\n",
        "min_distance_flights = df[df['Distance'] == min_distance]\n",
        "\n",
        "print(\"Рейсы с мин расстоянием:\")\n",
        "print(min_distance_flights[['Year', 'Month', 'DayofMonth', 'FlightNum', 'Distance']])"
      ]
    },
    {
      "cell_type": "code",
      "source": [
        "flight_numbers = min_distance_flights['FlightNum'].unique()\n",
        "\n",
        "same_flights_other_days = df[df['FlightNum'].isin(flight_numbers) & (df['Distance'] != min_distance)]\n",
        "\n",
        "print(\"Расстояния этих рейсов в другие дни:\")\n",
        "print(same_flights_other_days[['Year', 'Month', 'DayofMonth', 'FlightNum', 'Distance']])"
      ],
      "metadata": {
        "colab": {
          "base_uri": "https://localhost:8080/"
        },
        "id": "f64kuCkXsB2I",
        "outputId": "d0aa5ca6-b202-406b-ecf1-d4170ed569da"
      },
      "execution_count": 20,
      "outputs": [
        {
          "output_type": "stream",
          "name": "stdout",
          "text": [
            "Расстояния этих рейсов в другие дни:\n",
            "       Year  Month  DayofMonth  FlightNum  Distance\n",
            "501    2008      3          20         64       533\n",
            "1389   2008      3          13         64       680\n",
            "1517   2008      7          10         65       680\n",
            "2619   2008      5          23         64      2381\n",
            "3869   2008      7           1         64        82\n",
            "...     ...    ...         ...        ...       ...\n",
            "66529  2008     12          21         65        82\n",
            "67172  2008      3          22         64       533\n",
            "68264  2008      9           7         65       386\n",
            "68338  2008      8           3         65      2454\n",
            "69305  2008      1           5         65      1005\n",
            "\n",
            "[72 rows x 5 columns]\n"
          ]
        }
      ]
    },
    {
      "cell_type": "markdown",
      "metadata": {
        "id": "1Ogc6RVSmZlr"
      },
      "source": [
        "**9. (0.3 балла)** Из какого аэропорта было произведено больше всего вылетов? В каком городе он находится?"
      ]
    },
    {
      "cell_type": "code",
      "execution_count": 21,
      "metadata": {
        "collapsed": true,
        "colab": {
          "base_uri": "https://localhost:8080/"
        },
        "id": "F-YTnTZnmZlr",
        "outputId": "7279a508-993f-4c44-b400-f009badd3395"
      },
      "outputs": [
        {
          "output_type": "stream",
          "name": "stdout",
          "text": [
            "Аэропорт: ATL\n",
            "Количество вылетов из этого аэропорта: 4134\n"
          ]
        }
      ],
      "source": [
        "# Your code here\n",
        "departure_counts = df['Origin'].value_counts()\n",
        "\n",
        "most_frequent_airport = departure_counts.idxmax()\n",
        "flights_count = departure_counts.max()\n",
        "\n",
        "print(f\"Аэропорт: {most_frequent_airport}\")\n",
        "print(f\"Количество вылетов из этого аэропорта: {flights_count}\")"
      ]
    },
    {
      "cell_type": "markdown",
      "metadata": {
        "id": "SEP3I21rmZls"
      },
      "source": [
        "**10. (0.3 балла)** Найдите для каждого аэропорта среднее время полета (`AirTime`) по всем вылетевшим из него рейсам. Какой аэропорт имеет наибольшее значение этого показателя?"
      ]
    },
    {
      "cell_type": "code",
      "execution_count": 22,
      "metadata": {
        "collapsed": true,
        "colab": {
          "base_uri": "https://localhost:8080/"
        },
        "id": "KdwqykD-mZlt",
        "outputId": "f7089413-7013-406d-ab01-f481f1acc103"
      },
      "outputs": [
        {
          "output_type": "stream",
          "name": "stdout",
          "text": [
            "Аэропорт с наибольшим средним временем полета: SJU\n",
            "Среднее время полета из этого аэропорта: 205.2\n"
          ]
        }
      ],
      "source": [
        "# Your code here\n",
        "avg_airtime_by_airport = df.groupby('Origin')['AirTime'].mean()\n",
        "\n",
        "airport_with_max_airtime = avg_airtime_by_airport.idxmax()\n",
        "max_avg_airtime = avg_airtime_by_airport.max()\n",
        "\n",
        "print(f\"Аэропорт с наибольшим средним временем полета: {airport_with_max_airtime}\")\n",
        "print(f\"Среднее время полета из этого аэропорта: {max_avg_airtime}\")"
      ]
    },
    {
      "cell_type": "markdown",
      "metadata": {
        "id": "CzEzob6fmZlt"
      },
      "source": [
        "**11. (0.5 балла)** Найдите аэропорт, у которого наибольшая доля задержанных (`DepDelay > 0`) рейсов. Исключите при этом из рассмотрения аэропорты, из которых было отправлено меньше 1000 рейсов (используйте функцию `filter` после `groupby`)."
      ]
    },
    {
      "cell_type": "code",
      "execution_count": 23,
      "metadata": {
        "colab": {
          "base_uri": "https://localhost:8080/"
        },
        "id": "DuO6t-2zmZlu",
        "outputId": "c6a8b03d-d5f8-4072-f9bf-2a9544ba57a4"
      },
      "outputs": [
        {
          "output_type": "stream",
          "name": "stdout",
          "text": [
            "Аэропорт с наибольшей долей задержанных рейсов: EWR\n",
            "Доля задержанных рейсов: 0.5111591072714183\n"
          ]
        }
      ],
      "source": [
        "def filter_min_flights(x):\n",
        "    return len(x) >= 1000\n",
        "\n",
        "filtered = df.groupby('Origin').filter(filter_min_flights)\n",
        "delay_ratios = filtered.groupby('Origin')['DepDelay'].apply(lambda x: (x > 0).mean())\n",
        "\n",
        "airport_max_delay = delay_ratios.idxmax()\n",
        "max_delay_ratio = delay_ratios.max()\n",
        "\n",
        "print(f\"Аэропорт с наибольшей долей задержанных рейсов: {airport_max_delay}\")\n",
        "print(f\"Доля задержанных рейсов: {max_delay_ratio}\")"
      ]
    },
    {
      "cell_type": "markdown",
      "metadata": {
        "id": "97NwgiktmZlu"
      },
      "source": [
        "## Линейная регрессия\n",
        "\n",
        "В этой части мы разберемся с линейной регрессией, способами её обучения и измерением качества ее прогнозов.\n",
        "\n",
        "Будем рассматривать датасет из предыдущей части задания для предсказания времени задержки отправления рейса в минутах (DepDelay). Отметим, что под задержкой подразумевается не только опоздание рейса относительно планируемого времени вылета, но и отправление до планируемого времени.\n",
        "\n",
        "### Подготовка данных\n",
        "\n",
        "**12. (0.5 балла)** Считайте выборку из файла при помощи функции pd.read_csv и ответьте на следующие вопросы:\n",
        "   - Имеются ли в данных пропущенные значения?\n",
        "   - Сколько всего пропущенных элементов в таблице \"объект-признак\"?\n",
        "   - Сколько объектов имеют хотя бы один пропуск?\n",
        "   - Сколько признаков имеют хотя бы одно пропущенное значение?"
      ]
    },
    {
      "cell_type": "code",
      "execution_count": null,
      "metadata": {
        "scrolled": true,
        "colab": {
          "base_uri": "https://localhost:8080/"
        },
        "id": "0Xii3jdjmZlv",
        "outputId": "eaaf15eb-d696-44ec-8914-859375bf4d0d"
      },
      "outputs": [
        {
          "output_type": "stream",
          "name": "stdout",
          "text": [
            "True\n",
            "355215\n",
            "70000\n",
            "16\n"
          ]
        }
      ],
      "source": [
        "# Your code here\n",
        "has_missing = df.isnull().values.any()\n",
        "total_missing = df.isnull().sum().sum()\n",
        "objects_with_missing = df.isnull().any(axis=1).sum()\n",
        "features_with_missing = df.isnull().any(axis=0).sum()\n",
        "print(has_missing)\n",
        "print(total_missing)\n",
        "print(objects_with_missing)\n",
        "print(features_with_missing)"
      ]
    },
    {
      "cell_type": "markdown",
      "metadata": {
        "id": "1hICE1yfmZlv"
      },
      "source": [
        "Как вы понимаете, также не имеет смысла рассматривать при решении поставленной задачи объекты с пропущенным значением целевой переменной. В связи с этим ответьте на следующие вопросы и выполните соответствующие действия:\n",
        "- Имеются ли пропущенные значения в целевой переменной?\n",
        "- Проанализируйте объекты с пропущенными значениями целевой переменной. Чем вызвано это явление? Что их объединяет? Можно ли в связи с этим, на ваш взгляд, исключить какие-то признаки из рассмотрения? Обоснуйте свою точку зрения.\n",
        "\n",
        "Исключите из выборки объекты **с пропущенным значением целевой переменной и со значением целевой переменной, равным 0**, а также при необходимости исключите признаки в соответствии с вашим ответом на последний вопрос из списка и выделите целевую переменную в отдельный вектор, исключив её из матрицы \"объект-признак\"."
      ]
    },
    {
      "cell_type": "code",
      "execution_count": 24,
      "metadata": {
        "collapsed": true,
        "id": "FYQSrML1mZlw",
        "colab": {
          "base_uri": "https://localhost:8080/"
        },
        "outputId": "4da0631e-5653-412f-e1f5-9710b65cad1d"
      },
      "outputs": [
        {
          "output_type": "stream",
          "name": "stdout",
          "text": [
            "1399\n",
            "5197\n"
          ]
        }
      ],
      "source": [
        "print(df['DepDelay'].isnull().sum())\n",
        "print((df['DepDelay'] == 0).sum())"
      ]
    },
    {
      "cell_type": "code",
      "source": [
        "df = df[df['DepDelay'].notna() & (df['DepDelay'] != 0)]"
      ],
      "metadata": {
        "id": "33wJZYsIwB4P"
      },
      "execution_count": 27,
      "outputs": []
    },
    {
      "cell_type": "code",
      "source": [
        "print(df['DepDelay'].isnull().sum())\n",
        "print((df['DepDelay'] == 0).sum())"
      ],
      "metadata": {
        "colab": {
          "base_uri": "https://localhost:8080/"
        },
        "id": "UflPGEU5wWCp",
        "outputId": "a8e8919f-ef8c-4b74-fb5c-4832e5e1802e"
      },
      "execution_count": 28,
      "outputs": [
        {
          "output_type": "stream",
          "name": "stdout",
          "text": [
            "0\n",
            "0\n"
          ]
        }
      ]
    },
    {
      "cell_type": "markdown",
      "metadata": {
        "id": "oZX_FveOmZlw"
      },
      "source": [
        "**13. (0.5 балла)** Обратите внимание, что признаки DepTime, CRSDepTime, ArrTime, CRSArrTime приведены в формате hhmm, в связи с чем будет не вполне корректно рассматривать их как вещественные.\n",
        "\n",
        "Преобразуйте каждый признак FeatureName из указанных в пару новых признаков FeatureName\\_Hour, FeatureName\\_Minute, разделив каждое из значений на часы и минуты. Не забудьте при этом исключить исходный признак из выборки. В случае, если значение признака отсутствует, значения двух новых признаков, его заменяющих, также должны отсутствовать.\n",
        "\n",
        "Например, признак DepTime необходимо заменить на пару признаков DepTime_Hour, DepTime_Minute. При этом, например, значение 155 исходного признака будет преобразовано в значения 1 и 55 признаков DepTime_Hour, DepTime_Minute соответственно."
      ]
    },
    {
      "cell_type": "code",
      "source": [
        "df['DepTime']"
      ],
      "metadata": {
        "colab": {
          "base_uri": "https://localhost:8080/",
          "height": 458
        },
        "id": "9Fpz3jjBxEKT",
        "outputId": "5ad7e38c-ba51-43ce-b1a1-ca7104fdb2df"
      },
      "execution_count": 32,
      "outputs": [
        {
          "output_type": "execute_result",
          "data": {
            "text/plain": [
              "0        2111.0\n",
              "1        1426.0\n",
              "2        1143.0\n",
              "3        1141.0\n",
              "4         815.0\n",
              "          ...  \n",
              "69994     920.0\n",
              "69995    1829.0\n",
              "69996    1149.0\n",
              "69998    1906.0\n",
              "69999     859.0\n",
              "Name: DepTime, Length: 63404, dtype: float64"
            ],
            "text/html": [
              "<div>\n",
              "<style scoped>\n",
              "    .dataframe tbody tr th:only-of-type {\n",
              "        vertical-align: middle;\n",
              "    }\n",
              "\n",
              "    .dataframe tbody tr th {\n",
              "        vertical-align: top;\n",
              "    }\n",
              "\n",
              "    .dataframe thead th {\n",
              "        text-align: right;\n",
              "    }\n",
              "</style>\n",
              "<table border=\"1\" class=\"dataframe\">\n",
              "  <thead>\n",
              "    <tr style=\"text-align: right;\">\n",
              "      <th></th>\n",
              "      <th>DepTime</th>\n",
              "    </tr>\n",
              "  </thead>\n",
              "  <tbody>\n",
              "    <tr>\n",
              "      <th>0</th>\n",
              "      <td>2111.0</td>\n",
              "    </tr>\n",
              "    <tr>\n",
              "      <th>1</th>\n",
              "      <td>1426.0</td>\n",
              "    </tr>\n",
              "    <tr>\n",
              "      <th>2</th>\n",
              "      <td>1143.0</td>\n",
              "    </tr>\n",
              "    <tr>\n",
              "      <th>3</th>\n",
              "      <td>1141.0</td>\n",
              "    </tr>\n",
              "    <tr>\n",
              "      <th>4</th>\n",
              "      <td>815.0</td>\n",
              "    </tr>\n",
              "    <tr>\n",
              "      <th>...</th>\n",
              "      <td>...</td>\n",
              "    </tr>\n",
              "    <tr>\n",
              "      <th>69994</th>\n",
              "      <td>920.0</td>\n",
              "    </tr>\n",
              "    <tr>\n",
              "      <th>69995</th>\n",
              "      <td>1829.0</td>\n",
              "    </tr>\n",
              "    <tr>\n",
              "      <th>69996</th>\n",
              "      <td>1149.0</td>\n",
              "    </tr>\n",
              "    <tr>\n",
              "      <th>69998</th>\n",
              "      <td>1906.0</td>\n",
              "    </tr>\n",
              "    <tr>\n",
              "      <th>69999</th>\n",
              "      <td>859.0</td>\n",
              "    </tr>\n",
              "  </tbody>\n",
              "</table>\n",
              "<p>63404 rows × 1 columns</p>\n",
              "</div><br><label><b>dtype:</b> float64</label>"
            ]
          },
          "metadata": {},
          "execution_count": 32
        }
      ]
    },
    {
      "cell_type": "code",
      "execution_count": 34,
      "metadata": {
        "collapsed": true,
        "id": "JH3ufj_amZlx",
        "colab": {
          "base_uri": "https://localhost:8080/"
        },
        "outputId": "decfd824-728e-454a-cdf7-81f4f795ea0a"
      },
      "outputs": [
        {
          "output_type": "stream",
          "name": "stderr",
          "text": [
            "/tmp/ipython-input-3842390312.py:4: SettingWithCopyWarning: \n",
            "A value is trying to be set on a copy of a slice from a DataFrame.\n",
            "Try using .loc[row_indexer,col_indexer] = value instead\n",
            "\n",
            "See the caveats in the documentation: https://pandas.pydata.org/pandas-docs/stable/user_guide/indexing.html#returning-a-view-versus-a-copy\n",
            "  df[col+'_Hour'] = df[col] // 100\n",
            "/tmp/ipython-input-3842390312.py:5: SettingWithCopyWarning: \n",
            "A value is trying to be set on a copy of a slice from a DataFrame.\n",
            "Try using .loc[row_indexer,col_indexer] = value instead\n",
            "\n",
            "See the caveats in the documentation: https://pandas.pydata.org/pandas-docs/stable/user_guide/indexing.html#returning-a-view-versus-a-copy\n",
            "  df[col+'_Minute'] = df[col] % 100\n"
          ]
        }
      ],
      "source": [
        "# Your code here\n",
        "time_columns = ['DepTime', 'CRSDepTime', 'ArrTime', 'CRSArrTime']\n",
        "for col in time_columns:\n",
        "    df[col+'_Hour'] = df[col] // 100\n",
        "    df[col+'_Minute'] = df[col] % 100\n",
        "    df = df.drop(col, axis=1)"
      ]
    },
    {
      "cell_type": "code",
      "source": [
        "df"
      ],
      "metadata": {
        "colab": {
          "base_uri": "https://localhost:8080/",
          "height": 443
        },
        "id": "eyneZvfFyDa8",
        "outputId": "8aaf7818-93c2-467c-a132-5fa2279e2272"
      },
      "execution_count": 35,
      "outputs": [
        {
          "output_type": "execute_result",
          "data": {
            "text/plain": [
              "       Year  Month  DayofMonth  DayOfWeek UniqueCarrier  FlightNum TailNum  \\\n",
              "0      2008      6          18          3            WN        242  N699SW   \n",
              "1      2008      6           4          3            XE       2380  N15980   \n",
              "2      2008      8           3          7            WN       1769  N464WN   \n",
              "3      2008      1          23          3            OO       3802  N465SW   \n",
              "4      2008      5           4          7            WN        399  N489WN   \n",
              "...     ...    ...         ...        ...           ...        ...     ...   \n",
              "69994  2008      1          26          6            OH       5218  N655CA   \n",
              "69995  2008      5          12          1            DL        794  N988DL   \n",
              "69996  2008      5          11          7            OO       6159  N776SK   \n",
              "69998  2008      2          18          1            NW        641  N318US   \n",
              "69999  2008     12           6          6            WN        510  N786SW   \n",
              "\n",
              "       ActualElapsedTime  CRSElapsedTime  AirTime  ...  SecurityDelay  \\\n",
              "0                   57.0            65.0     46.0  ...            NaN   \n",
              "1                  124.0           138.0    108.0  ...            NaN   \n",
              "2                  138.0           155.0    125.0  ...            NaN   \n",
              "3                  102.0           111.0     79.0  ...            NaN   \n",
              "4                  148.0           160.0    136.0  ...            NaN   \n",
              "...                  ...             ...      ...  ...            ...   \n",
              "69994              110.0           113.0     85.0  ...            NaN   \n",
              "69995              128.0           129.0     86.0  ...            NaN   \n",
              "69996               47.0            49.0     30.0  ...            0.0   \n",
              "69998              234.0           219.0    192.0  ...            0.0   \n",
              "69999               60.0            65.0     46.0  ...            NaN   \n",
              "\n",
              "       LateAircraftDelay DepTime_Hour DepTime_Minute  CRSDepTime_Hour  \\\n",
              "0                    NaN         21.0           11.0               20   \n",
              "1                    NaN         14.0           26.0               14   \n",
              "2                    NaN         11.0           43.0               11   \n",
              "3                    NaN         11.0           41.0               11   \n",
              "4                    NaN          8.0           15.0                8   \n",
              "...                  ...          ...            ...              ...   \n",
              "69994                NaN          9.0           20.0                9   \n",
              "69995                NaN         18.0           29.0               18   \n",
              "69996               22.0         11.0           49.0               11   \n",
              "69998                6.0         19.0            6.0               19   \n",
              "69999                NaN          8.0           59.0                9   \n",
              "\n",
              "       CRSDepTime_Minute  ArrTime_Hour  ArrTime_Minute CRSArrTime_Hour  \\\n",
              "0                     55          23.0             8.0              23   \n",
              "1                     10          17.0            30.0              17   \n",
              "2                     45          15.0             1.0              15   \n",
              "3                     44          13.0            23.0              13   \n",
              "4                     20          12.0            43.0              13   \n",
              "...                  ...           ...             ...             ...   \n",
              "69994                 25          11.0            10.0              11   \n",
              "69995                 40          21.0            37.0              21   \n",
              "69996                 25          13.0            36.0              13   \n",
              "69998                  0          22.0             0.0              21   \n",
              "69999                  0           9.0            59.0              10   \n",
              "\n",
              "       CRSArrTime_Minute  \n",
              "0                      0  \n",
              "1                     28  \n",
              "2                     20  \n",
              "3                     35  \n",
              "4                      0  \n",
              "...                  ...  \n",
              "69994                 18  \n",
              "69995                 49  \n",
              "69996                 14  \n",
              "69998                 39  \n",
              "69999                  5  \n",
              "\n",
              "[63404 rows x 33 columns]"
            ],
            "text/html": [
              "\n",
              "  <div id=\"df-9982b8e8-84ad-45ba-9dd0-ca6e7c5b42dc\" class=\"colab-df-container\">\n",
              "    <div>\n",
              "<style scoped>\n",
              "    .dataframe tbody tr th:only-of-type {\n",
              "        vertical-align: middle;\n",
              "    }\n",
              "\n",
              "    .dataframe tbody tr th {\n",
              "        vertical-align: top;\n",
              "    }\n",
              "\n",
              "    .dataframe thead th {\n",
              "        text-align: right;\n",
              "    }\n",
              "</style>\n",
              "<table border=\"1\" class=\"dataframe\">\n",
              "  <thead>\n",
              "    <tr style=\"text-align: right;\">\n",
              "      <th></th>\n",
              "      <th>Year</th>\n",
              "      <th>Month</th>\n",
              "      <th>DayofMonth</th>\n",
              "      <th>DayOfWeek</th>\n",
              "      <th>UniqueCarrier</th>\n",
              "      <th>FlightNum</th>\n",
              "      <th>TailNum</th>\n",
              "      <th>ActualElapsedTime</th>\n",
              "      <th>CRSElapsedTime</th>\n",
              "      <th>AirTime</th>\n",
              "      <th>...</th>\n",
              "      <th>SecurityDelay</th>\n",
              "      <th>LateAircraftDelay</th>\n",
              "      <th>DepTime_Hour</th>\n",
              "      <th>DepTime_Minute</th>\n",
              "      <th>CRSDepTime_Hour</th>\n",
              "      <th>CRSDepTime_Minute</th>\n",
              "      <th>ArrTime_Hour</th>\n",
              "      <th>ArrTime_Minute</th>\n",
              "      <th>CRSArrTime_Hour</th>\n",
              "      <th>CRSArrTime_Minute</th>\n",
              "    </tr>\n",
              "  </thead>\n",
              "  <tbody>\n",
              "    <tr>\n",
              "      <th>0</th>\n",
              "      <td>2008</td>\n",
              "      <td>6</td>\n",
              "      <td>18</td>\n",
              "      <td>3</td>\n",
              "      <td>WN</td>\n",
              "      <td>242</td>\n",
              "      <td>N699SW</td>\n",
              "      <td>57.0</td>\n",
              "      <td>65.0</td>\n",
              "      <td>46.0</td>\n",
              "      <td>...</td>\n",
              "      <td>NaN</td>\n",
              "      <td>NaN</td>\n",
              "      <td>21.0</td>\n",
              "      <td>11.0</td>\n",
              "      <td>20</td>\n",
              "      <td>55</td>\n",
              "      <td>23.0</td>\n",
              "      <td>8.0</td>\n",
              "      <td>23</td>\n",
              "      <td>0</td>\n",
              "    </tr>\n",
              "    <tr>\n",
              "      <th>1</th>\n",
              "      <td>2008</td>\n",
              "      <td>6</td>\n",
              "      <td>4</td>\n",
              "      <td>3</td>\n",
              "      <td>XE</td>\n",
              "      <td>2380</td>\n",
              "      <td>N15980</td>\n",
              "      <td>124.0</td>\n",
              "      <td>138.0</td>\n",
              "      <td>108.0</td>\n",
              "      <td>...</td>\n",
              "      <td>NaN</td>\n",
              "      <td>NaN</td>\n",
              "      <td>14.0</td>\n",
              "      <td>26.0</td>\n",
              "      <td>14</td>\n",
              "      <td>10</td>\n",
              "      <td>17.0</td>\n",
              "      <td>30.0</td>\n",
              "      <td>17</td>\n",
              "      <td>28</td>\n",
              "    </tr>\n",
              "    <tr>\n",
              "      <th>2</th>\n",
              "      <td>2008</td>\n",
              "      <td>8</td>\n",
              "      <td>3</td>\n",
              "      <td>7</td>\n",
              "      <td>WN</td>\n",
              "      <td>1769</td>\n",
              "      <td>N464WN</td>\n",
              "      <td>138.0</td>\n",
              "      <td>155.0</td>\n",
              "      <td>125.0</td>\n",
              "      <td>...</td>\n",
              "      <td>NaN</td>\n",
              "      <td>NaN</td>\n",
              "      <td>11.0</td>\n",
              "      <td>43.0</td>\n",
              "      <td>11</td>\n",
              "      <td>45</td>\n",
              "      <td>15.0</td>\n",
              "      <td>1.0</td>\n",
              "      <td>15</td>\n",
              "      <td>20</td>\n",
              "    </tr>\n",
              "    <tr>\n",
              "      <th>3</th>\n",
              "      <td>2008</td>\n",
              "      <td>1</td>\n",
              "      <td>23</td>\n",
              "      <td>3</td>\n",
              "      <td>OO</td>\n",
              "      <td>3802</td>\n",
              "      <td>N465SW</td>\n",
              "      <td>102.0</td>\n",
              "      <td>111.0</td>\n",
              "      <td>79.0</td>\n",
              "      <td>...</td>\n",
              "      <td>NaN</td>\n",
              "      <td>NaN</td>\n",
              "      <td>11.0</td>\n",
              "      <td>41.0</td>\n",
              "      <td>11</td>\n",
              "      <td>44</td>\n",
              "      <td>13.0</td>\n",
              "      <td>23.0</td>\n",
              "      <td>13</td>\n",
              "      <td>35</td>\n",
              "    </tr>\n",
              "    <tr>\n",
              "      <th>4</th>\n",
              "      <td>2008</td>\n",
              "      <td>5</td>\n",
              "      <td>4</td>\n",
              "      <td>7</td>\n",
              "      <td>WN</td>\n",
              "      <td>399</td>\n",
              "      <td>N489WN</td>\n",
              "      <td>148.0</td>\n",
              "      <td>160.0</td>\n",
              "      <td>136.0</td>\n",
              "      <td>...</td>\n",
              "      <td>NaN</td>\n",
              "      <td>NaN</td>\n",
              "      <td>8.0</td>\n",
              "      <td>15.0</td>\n",
              "      <td>8</td>\n",
              "      <td>20</td>\n",
              "      <td>12.0</td>\n",
              "      <td>43.0</td>\n",
              "      <td>13</td>\n",
              "      <td>0</td>\n",
              "    </tr>\n",
              "    <tr>\n",
              "      <th>...</th>\n",
              "      <td>...</td>\n",
              "      <td>...</td>\n",
              "      <td>...</td>\n",
              "      <td>...</td>\n",
              "      <td>...</td>\n",
              "      <td>...</td>\n",
              "      <td>...</td>\n",
              "      <td>...</td>\n",
              "      <td>...</td>\n",
              "      <td>...</td>\n",
              "      <td>...</td>\n",
              "      <td>...</td>\n",
              "      <td>...</td>\n",
              "      <td>...</td>\n",
              "      <td>...</td>\n",
              "      <td>...</td>\n",
              "      <td>...</td>\n",
              "      <td>...</td>\n",
              "      <td>...</td>\n",
              "      <td>...</td>\n",
              "      <td>...</td>\n",
              "    </tr>\n",
              "    <tr>\n",
              "      <th>69994</th>\n",
              "      <td>2008</td>\n",
              "      <td>1</td>\n",
              "      <td>26</td>\n",
              "      <td>6</td>\n",
              "      <td>OH</td>\n",
              "      <td>5218</td>\n",
              "      <td>N655CA</td>\n",
              "      <td>110.0</td>\n",
              "      <td>113.0</td>\n",
              "      <td>85.0</td>\n",
              "      <td>...</td>\n",
              "      <td>NaN</td>\n",
              "      <td>NaN</td>\n",
              "      <td>9.0</td>\n",
              "      <td>20.0</td>\n",
              "      <td>9</td>\n",
              "      <td>25</td>\n",
              "      <td>11.0</td>\n",
              "      <td>10.0</td>\n",
              "      <td>11</td>\n",
              "      <td>18</td>\n",
              "    </tr>\n",
              "    <tr>\n",
              "      <th>69995</th>\n",
              "      <td>2008</td>\n",
              "      <td>5</td>\n",
              "      <td>12</td>\n",
              "      <td>1</td>\n",
              "      <td>DL</td>\n",
              "      <td>794</td>\n",
              "      <td>N988DL</td>\n",
              "      <td>128.0</td>\n",
              "      <td>129.0</td>\n",
              "      <td>86.0</td>\n",
              "      <td>...</td>\n",
              "      <td>NaN</td>\n",
              "      <td>NaN</td>\n",
              "      <td>18.0</td>\n",
              "      <td>29.0</td>\n",
              "      <td>18</td>\n",
              "      <td>40</td>\n",
              "      <td>21.0</td>\n",
              "      <td>37.0</td>\n",
              "      <td>21</td>\n",
              "      <td>49</td>\n",
              "    </tr>\n",
              "    <tr>\n",
              "      <th>69996</th>\n",
              "      <td>2008</td>\n",
              "      <td>5</td>\n",
              "      <td>11</td>\n",
              "      <td>7</td>\n",
              "      <td>OO</td>\n",
              "      <td>6159</td>\n",
              "      <td>N776SK</td>\n",
              "      <td>47.0</td>\n",
              "      <td>49.0</td>\n",
              "      <td>30.0</td>\n",
              "      <td>...</td>\n",
              "      <td>0.0</td>\n",
              "      <td>22.0</td>\n",
              "      <td>11.0</td>\n",
              "      <td>49.0</td>\n",
              "      <td>11</td>\n",
              "      <td>25</td>\n",
              "      <td>13.0</td>\n",
              "      <td>36.0</td>\n",
              "      <td>13</td>\n",
              "      <td>14</td>\n",
              "    </tr>\n",
              "    <tr>\n",
              "      <th>69998</th>\n",
              "      <td>2008</td>\n",
              "      <td>2</td>\n",
              "      <td>18</td>\n",
              "      <td>1</td>\n",
              "      <td>NW</td>\n",
              "      <td>641</td>\n",
              "      <td>N318US</td>\n",
              "      <td>234.0</td>\n",
              "      <td>219.0</td>\n",
              "      <td>192.0</td>\n",
              "      <td>...</td>\n",
              "      <td>0.0</td>\n",
              "      <td>6.0</td>\n",
              "      <td>19.0</td>\n",
              "      <td>6.0</td>\n",
              "      <td>19</td>\n",
              "      <td>0</td>\n",
              "      <td>22.0</td>\n",
              "      <td>0.0</td>\n",
              "      <td>21</td>\n",
              "      <td>39</td>\n",
              "    </tr>\n",
              "    <tr>\n",
              "      <th>69999</th>\n",
              "      <td>2008</td>\n",
              "      <td>12</td>\n",
              "      <td>6</td>\n",
              "      <td>6</td>\n",
              "      <td>WN</td>\n",
              "      <td>510</td>\n",
              "      <td>N786SW</td>\n",
              "      <td>60.0</td>\n",
              "      <td>65.0</td>\n",
              "      <td>46.0</td>\n",
              "      <td>...</td>\n",
              "      <td>NaN</td>\n",
              "      <td>NaN</td>\n",
              "      <td>8.0</td>\n",
              "      <td>59.0</td>\n",
              "      <td>9</td>\n",
              "      <td>0</td>\n",
              "      <td>9.0</td>\n",
              "      <td>59.0</td>\n",
              "      <td>10</td>\n",
              "      <td>5</td>\n",
              "    </tr>\n",
              "  </tbody>\n",
              "</table>\n",
              "<p>63404 rows × 33 columns</p>\n",
              "</div>\n",
              "    <div class=\"colab-df-buttons\">\n",
              "\n",
              "  <div class=\"colab-df-container\">\n",
              "    <button class=\"colab-df-convert\" onclick=\"convertToInteractive('df-9982b8e8-84ad-45ba-9dd0-ca6e7c5b42dc')\"\n",
              "            title=\"Convert this dataframe to an interactive table.\"\n",
              "            style=\"display:none;\">\n",
              "\n",
              "  <svg xmlns=\"http://www.w3.org/2000/svg\" height=\"24px\" viewBox=\"0 -960 960 960\">\n",
              "    <path d=\"M120-120v-720h720v720H120Zm60-500h600v-160H180v160Zm220 220h160v-160H400v160Zm0 220h160v-160H400v160ZM180-400h160v-160H180v160Zm440 0h160v-160H620v160ZM180-180h160v-160H180v160Zm440 0h160v-160H620v160Z\"/>\n",
              "  </svg>\n",
              "    </button>\n",
              "\n",
              "  <style>\n",
              "    .colab-df-container {\n",
              "      display:flex;\n",
              "      gap: 12px;\n",
              "    }\n",
              "\n",
              "    .colab-df-convert {\n",
              "      background-color: #E8F0FE;\n",
              "      border: none;\n",
              "      border-radius: 50%;\n",
              "      cursor: pointer;\n",
              "      display: none;\n",
              "      fill: #1967D2;\n",
              "      height: 32px;\n",
              "      padding: 0 0 0 0;\n",
              "      width: 32px;\n",
              "    }\n",
              "\n",
              "    .colab-df-convert:hover {\n",
              "      background-color: #E2EBFA;\n",
              "      box-shadow: 0px 1px 2px rgba(60, 64, 67, 0.3), 0px 1px 3px 1px rgba(60, 64, 67, 0.15);\n",
              "      fill: #174EA6;\n",
              "    }\n",
              "\n",
              "    .colab-df-buttons div {\n",
              "      margin-bottom: 4px;\n",
              "    }\n",
              "\n",
              "    [theme=dark] .colab-df-convert {\n",
              "      background-color: #3B4455;\n",
              "      fill: #D2E3FC;\n",
              "    }\n",
              "\n",
              "    [theme=dark] .colab-df-convert:hover {\n",
              "      background-color: #434B5C;\n",
              "      box-shadow: 0px 1px 3px 1px rgba(0, 0, 0, 0.15);\n",
              "      filter: drop-shadow(0px 1px 2px rgba(0, 0, 0, 0.3));\n",
              "      fill: #FFFFFF;\n",
              "    }\n",
              "  </style>\n",
              "\n",
              "    <script>\n",
              "      const buttonEl =\n",
              "        document.querySelector('#df-9982b8e8-84ad-45ba-9dd0-ca6e7c5b42dc button.colab-df-convert');\n",
              "      buttonEl.style.display =\n",
              "        google.colab.kernel.accessAllowed ? 'block' : 'none';\n",
              "\n",
              "      async function convertToInteractive(key) {\n",
              "        const element = document.querySelector('#df-9982b8e8-84ad-45ba-9dd0-ca6e7c5b42dc');\n",
              "        const dataTable =\n",
              "          await google.colab.kernel.invokeFunction('convertToInteractive',\n",
              "                                                    [key], {});\n",
              "        if (!dataTable) return;\n",
              "\n",
              "        const docLinkHtml = 'Like what you see? Visit the ' +\n",
              "          '<a target=\"_blank\" href=https://colab.research.google.com/notebooks/data_table.ipynb>data table notebook</a>'\n",
              "          + ' to learn more about interactive tables.';\n",
              "        element.innerHTML = '';\n",
              "        dataTable['output_type'] = 'display_data';\n",
              "        await google.colab.output.renderOutput(dataTable, element);\n",
              "        const docLink = document.createElement('div');\n",
              "        docLink.innerHTML = docLinkHtml;\n",
              "        element.appendChild(docLink);\n",
              "      }\n",
              "    </script>\n",
              "  </div>\n",
              "\n",
              "\n",
              "    <div id=\"df-eb387d5f-a941-425c-902f-0749b2bce8f7\">\n",
              "      <button class=\"colab-df-quickchart\" onclick=\"quickchart('df-eb387d5f-a941-425c-902f-0749b2bce8f7')\"\n",
              "                title=\"Suggest charts\"\n",
              "                style=\"display:none;\">\n",
              "\n",
              "<svg xmlns=\"http://www.w3.org/2000/svg\" height=\"24px\"viewBox=\"0 0 24 24\"\n",
              "     width=\"24px\">\n",
              "    <g>\n",
              "        <path d=\"M19 3H5c-1.1 0-2 .9-2 2v14c0 1.1.9 2 2 2h14c1.1 0 2-.9 2-2V5c0-1.1-.9-2-2-2zM9 17H7v-7h2v7zm4 0h-2V7h2v10zm4 0h-2v-4h2v4z\"/>\n",
              "    </g>\n",
              "</svg>\n",
              "      </button>\n",
              "\n",
              "<style>\n",
              "  .colab-df-quickchart {\n",
              "      --bg-color: #E8F0FE;\n",
              "      --fill-color: #1967D2;\n",
              "      --hover-bg-color: #E2EBFA;\n",
              "      --hover-fill-color: #174EA6;\n",
              "      --disabled-fill-color: #AAA;\n",
              "      --disabled-bg-color: #DDD;\n",
              "  }\n",
              "\n",
              "  [theme=dark] .colab-df-quickchart {\n",
              "      --bg-color: #3B4455;\n",
              "      --fill-color: #D2E3FC;\n",
              "      --hover-bg-color: #434B5C;\n",
              "      --hover-fill-color: #FFFFFF;\n",
              "      --disabled-bg-color: #3B4455;\n",
              "      --disabled-fill-color: #666;\n",
              "  }\n",
              "\n",
              "  .colab-df-quickchart {\n",
              "    background-color: var(--bg-color);\n",
              "    border: none;\n",
              "    border-radius: 50%;\n",
              "    cursor: pointer;\n",
              "    display: none;\n",
              "    fill: var(--fill-color);\n",
              "    height: 32px;\n",
              "    padding: 0;\n",
              "    width: 32px;\n",
              "  }\n",
              "\n",
              "  .colab-df-quickchart:hover {\n",
              "    background-color: var(--hover-bg-color);\n",
              "    box-shadow: 0 1px 2px rgba(60, 64, 67, 0.3), 0 1px 3px 1px rgba(60, 64, 67, 0.15);\n",
              "    fill: var(--button-hover-fill-color);\n",
              "  }\n",
              "\n",
              "  .colab-df-quickchart-complete:disabled,\n",
              "  .colab-df-quickchart-complete:disabled:hover {\n",
              "    background-color: var(--disabled-bg-color);\n",
              "    fill: var(--disabled-fill-color);\n",
              "    box-shadow: none;\n",
              "  }\n",
              "\n",
              "  .colab-df-spinner {\n",
              "    border: 2px solid var(--fill-color);\n",
              "    border-color: transparent;\n",
              "    border-bottom-color: var(--fill-color);\n",
              "    animation:\n",
              "      spin 1s steps(1) infinite;\n",
              "  }\n",
              "\n",
              "  @keyframes spin {\n",
              "    0% {\n",
              "      border-color: transparent;\n",
              "      border-bottom-color: var(--fill-color);\n",
              "      border-left-color: var(--fill-color);\n",
              "    }\n",
              "    20% {\n",
              "      border-color: transparent;\n",
              "      border-left-color: var(--fill-color);\n",
              "      border-top-color: var(--fill-color);\n",
              "    }\n",
              "    30% {\n",
              "      border-color: transparent;\n",
              "      border-left-color: var(--fill-color);\n",
              "      border-top-color: var(--fill-color);\n",
              "      border-right-color: var(--fill-color);\n",
              "    }\n",
              "    40% {\n",
              "      border-color: transparent;\n",
              "      border-right-color: var(--fill-color);\n",
              "      border-top-color: var(--fill-color);\n",
              "    }\n",
              "    60% {\n",
              "      border-color: transparent;\n",
              "      border-right-color: var(--fill-color);\n",
              "    }\n",
              "    80% {\n",
              "      border-color: transparent;\n",
              "      border-right-color: var(--fill-color);\n",
              "      border-bottom-color: var(--fill-color);\n",
              "    }\n",
              "    90% {\n",
              "      border-color: transparent;\n",
              "      border-bottom-color: var(--fill-color);\n",
              "    }\n",
              "  }\n",
              "</style>\n",
              "\n",
              "      <script>\n",
              "        async function quickchart(key) {\n",
              "          const quickchartButtonEl =\n",
              "            document.querySelector('#' + key + ' button');\n",
              "          quickchartButtonEl.disabled = true;  // To prevent multiple clicks.\n",
              "          quickchartButtonEl.classList.add('colab-df-spinner');\n",
              "          try {\n",
              "            const charts = await google.colab.kernel.invokeFunction(\n",
              "                'suggestCharts', [key], {});\n",
              "          } catch (error) {\n",
              "            console.error('Error during call to suggestCharts:', error);\n",
              "          }\n",
              "          quickchartButtonEl.classList.remove('colab-df-spinner');\n",
              "          quickchartButtonEl.classList.add('colab-df-quickchart-complete');\n",
              "        }\n",
              "        (() => {\n",
              "          let quickchartButtonEl =\n",
              "            document.querySelector('#df-eb387d5f-a941-425c-902f-0749b2bce8f7 button');\n",
              "          quickchartButtonEl.style.display =\n",
              "            google.colab.kernel.accessAllowed ? 'block' : 'none';\n",
              "        })();\n",
              "      </script>\n",
              "    </div>\n",
              "    </div>\n",
              "  </div>\n"
            ],
            "application/vnd.google.colaboratory.intrinsic+json": {
              "type": "dataframe",
              "variable_name": "df"
            }
          },
          "metadata": {},
          "execution_count": 35
        }
      ]
    },
    {
      "cell_type": "markdown",
      "metadata": {
        "id": "OoXi8sTTmZlx"
      },
      "source": [
        "**14. (0.5 балла)** Некоторые из признаков, отличных от целевой переменной, могут оказывать чересчур значимое влияние на прогноз, поскольку по своему смыслу содержат большую долю информации о значении целевой переменной. Изучите описание датасета и исключите признаки, сильно коррелирующие с ответами. Ваш выбор признаков для исключения из выборки обоснуйте. Кроме того, исключите признаки TailNum и Year."
      ]
    },
    {
      "cell_type": "code",
      "source": [
        "df.describe()"
      ],
      "metadata": {
        "colab": {
          "base_uri": "https://localhost:8080/",
          "height": 320
        },
        "id": "xJ-w1CSiySN4",
        "outputId": "c3b487d8-58e2-446d-f3de-613780ca1e0d"
      },
      "execution_count": 37,
      "outputs": [
        {
          "output_type": "execute_result",
          "data": {
            "text/plain": [
              "          Year         Month    DayofMonth     DayOfWeek     FlightNum  \\\n",
              "count  63404.0  63404.000000  63404.000000  63404.000000  63404.000000   \n",
              "mean    2008.0      6.403728     15.739559      3.923585   2172.564333   \n",
              "std        0.0      3.413331      8.813219      1.995803   1946.933041   \n",
              "min     2008.0      1.000000      1.000000      1.000000      1.000000   \n",
              "25%     2008.0      3.000000      8.000000      2.000000    600.000000   \n",
              "50%     2008.0      6.000000     16.000000      4.000000   1528.000000   \n",
              "75%     2008.0      9.000000     23.000000      6.000000   3395.000000   \n",
              "max     2008.0     12.000000     31.000000      7.000000   7828.000000   \n",
              "\n",
              "            AirTime      DepDelay      Distance        TaxiIn       TaxiOut  \\\n",
              "count  63240.000000  63404.000000  63404.000000  63264.000000  63397.000000   \n",
              "mean     103.905123     10.774415    729.540912      6.862718     16.438128   \n",
              "std       67.745516     36.046127    567.836527      4.884281     11.381316   \n",
              "min        3.000000    -45.000000     31.000000      0.000000      0.000000   \n",
              "25%       55.000000     -5.000000    325.000000      4.000000     10.000000   \n",
              "50%       86.000000     -1.000000    581.000000      6.000000     14.000000   \n",
              "75%      132.000000     10.000000    954.000000      8.000000     19.000000   \n",
              "max      645.000000   1146.000000   4962.000000    165.000000    317.000000   \n",
              "\n",
              "          Cancelled      Diverted  DepTime_Hour  DepTime_Minute  \\\n",
              "count  63404.000000  63404.000000  63404.000000    63404.000000   \n",
              "mean       0.000189      0.002397     13.062788       30.121349   \n",
              "std        0.013756      0.048904      4.791933       17.695193   \n",
              "min        0.000000      0.000000      0.000000        0.000000   \n",
              "25%        0.000000      0.000000      9.000000       15.000000   \n",
              "50%        0.000000      0.000000     13.000000       30.000000   \n",
              "75%        0.000000      0.000000     17.000000       46.000000   \n",
              "max        1.000000      1.000000     24.000000       59.000000   \n",
              "\n",
              "       CRSDepTime_Hour  CRSDepTime_Minute  ArrTime_Hour  ArrTime_Minute  \\\n",
              "count     63404.000000       63404.000000  63264.000000    63264.000000   \n",
              "mean         13.011056          26.697890     14.530776       29.469461   \n",
              "std           4.621035          17.839504      5.068951       17.308366   \n",
              "min           0.000000           0.000000      0.000000        0.000000   \n",
              "25%           9.000000          10.000000     11.000000       15.000000   \n",
              "50%          13.000000          26.000000     15.000000       29.000000   \n",
              "75%          17.000000          41.000000     19.000000       45.000000   \n",
              "max          23.000000          59.000000     24.000000       59.000000   \n",
              "\n",
              "       CRSArrTime_Hour  CRSArrTime_Minute  \n",
              "count     63404.000000       63404.000000  \n",
              "mean         14.677150          28.897530  \n",
              "std           4.822207          17.544103  \n",
              "min           0.000000           0.000000  \n",
              "25%          11.000000          15.000000  \n",
              "50%          15.000000          30.000000  \n",
              "75%          19.000000          45.000000  \n",
              "max          24.000000          59.000000  "
            ],
            "text/html": [
              "\n",
              "  <div id=\"df-b4107ae9-82e2-43ac-9db2-5fcfcafaf5f2\" class=\"colab-df-container\">\n",
              "    <div>\n",
              "<style scoped>\n",
              "    .dataframe tbody tr th:only-of-type {\n",
              "        vertical-align: middle;\n",
              "    }\n",
              "\n",
              "    .dataframe tbody tr th {\n",
              "        vertical-align: top;\n",
              "    }\n",
              "\n",
              "    .dataframe thead th {\n",
              "        text-align: right;\n",
              "    }\n",
              "</style>\n",
              "<table border=\"1\" class=\"dataframe\">\n",
              "  <thead>\n",
              "    <tr style=\"text-align: right;\">\n",
              "      <th></th>\n",
              "      <th>Year</th>\n",
              "      <th>Month</th>\n",
              "      <th>DayofMonth</th>\n",
              "      <th>DayOfWeek</th>\n",
              "      <th>FlightNum</th>\n",
              "      <th>AirTime</th>\n",
              "      <th>DepDelay</th>\n",
              "      <th>Distance</th>\n",
              "      <th>TaxiIn</th>\n",
              "      <th>TaxiOut</th>\n",
              "      <th>Cancelled</th>\n",
              "      <th>Diverted</th>\n",
              "      <th>DepTime_Hour</th>\n",
              "      <th>DepTime_Minute</th>\n",
              "      <th>CRSDepTime_Hour</th>\n",
              "      <th>CRSDepTime_Minute</th>\n",
              "      <th>ArrTime_Hour</th>\n",
              "      <th>ArrTime_Minute</th>\n",
              "      <th>CRSArrTime_Hour</th>\n",
              "      <th>CRSArrTime_Minute</th>\n",
              "    </tr>\n",
              "  </thead>\n",
              "  <tbody>\n",
              "    <tr>\n",
              "      <th>count</th>\n",
              "      <td>63404.0</td>\n",
              "      <td>63404.000000</td>\n",
              "      <td>63404.000000</td>\n",
              "      <td>63404.000000</td>\n",
              "      <td>63404.000000</td>\n",
              "      <td>63240.000000</td>\n",
              "      <td>63404.000000</td>\n",
              "      <td>63404.000000</td>\n",
              "      <td>63264.000000</td>\n",
              "      <td>63397.000000</td>\n",
              "      <td>63404.000000</td>\n",
              "      <td>63404.000000</td>\n",
              "      <td>63404.000000</td>\n",
              "      <td>63404.000000</td>\n",
              "      <td>63404.000000</td>\n",
              "      <td>63404.000000</td>\n",
              "      <td>63264.000000</td>\n",
              "      <td>63264.000000</td>\n",
              "      <td>63404.000000</td>\n",
              "      <td>63404.000000</td>\n",
              "    </tr>\n",
              "    <tr>\n",
              "      <th>mean</th>\n",
              "      <td>2008.0</td>\n",
              "      <td>6.403728</td>\n",
              "      <td>15.739559</td>\n",
              "      <td>3.923585</td>\n",
              "      <td>2172.564333</td>\n",
              "      <td>103.905123</td>\n",
              "      <td>10.774415</td>\n",
              "      <td>729.540912</td>\n",
              "      <td>6.862718</td>\n",
              "      <td>16.438128</td>\n",
              "      <td>0.000189</td>\n",
              "      <td>0.002397</td>\n",
              "      <td>13.062788</td>\n",
              "      <td>30.121349</td>\n",
              "      <td>13.011056</td>\n",
              "      <td>26.697890</td>\n",
              "      <td>14.530776</td>\n",
              "      <td>29.469461</td>\n",
              "      <td>14.677150</td>\n",
              "      <td>28.897530</td>\n",
              "    </tr>\n",
              "    <tr>\n",
              "      <th>std</th>\n",
              "      <td>0.0</td>\n",
              "      <td>3.413331</td>\n",
              "      <td>8.813219</td>\n",
              "      <td>1.995803</td>\n",
              "      <td>1946.933041</td>\n",
              "      <td>67.745516</td>\n",
              "      <td>36.046127</td>\n",
              "      <td>567.836527</td>\n",
              "      <td>4.884281</td>\n",
              "      <td>11.381316</td>\n",
              "      <td>0.013756</td>\n",
              "      <td>0.048904</td>\n",
              "      <td>4.791933</td>\n",
              "      <td>17.695193</td>\n",
              "      <td>4.621035</td>\n",
              "      <td>17.839504</td>\n",
              "      <td>5.068951</td>\n",
              "      <td>17.308366</td>\n",
              "      <td>4.822207</td>\n",
              "      <td>17.544103</td>\n",
              "    </tr>\n",
              "    <tr>\n",
              "      <th>min</th>\n",
              "      <td>2008.0</td>\n",
              "      <td>1.000000</td>\n",
              "      <td>1.000000</td>\n",
              "      <td>1.000000</td>\n",
              "      <td>1.000000</td>\n",
              "      <td>3.000000</td>\n",
              "      <td>-45.000000</td>\n",
              "      <td>31.000000</td>\n",
              "      <td>0.000000</td>\n",
              "      <td>0.000000</td>\n",
              "      <td>0.000000</td>\n",
              "      <td>0.000000</td>\n",
              "      <td>0.000000</td>\n",
              "      <td>0.000000</td>\n",
              "      <td>0.000000</td>\n",
              "      <td>0.000000</td>\n",
              "      <td>0.000000</td>\n",
              "      <td>0.000000</td>\n",
              "      <td>0.000000</td>\n",
              "      <td>0.000000</td>\n",
              "    </tr>\n",
              "    <tr>\n",
              "      <th>25%</th>\n",
              "      <td>2008.0</td>\n",
              "      <td>3.000000</td>\n",
              "      <td>8.000000</td>\n",
              "      <td>2.000000</td>\n",
              "      <td>600.000000</td>\n",
              "      <td>55.000000</td>\n",
              "      <td>-5.000000</td>\n",
              "      <td>325.000000</td>\n",
              "      <td>4.000000</td>\n",
              "      <td>10.000000</td>\n",
              "      <td>0.000000</td>\n",
              "      <td>0.000000</td>\n",
              "      <td>9.000000</td>\n",
              "      <td>15.000000</td>\n",
              "      <td>9.000000</td>\n",
              "      <td>10.000000</td>\n",
              "      <td>11.000000</td>\n",
              "      <td>15.000000</td>\n",
              "      <td>11.000000</td>\n",
              "      <td>15.000000</td>\n",
              "    </tr>\n",
              "    <tr>\n",
              "      <th>50%</th>\n",
              "      <td>2008.0</td>\n",
              "      <td>6.000000</td>\n",
              "      <td>16.000000</td>\n",
              "      <td>4.000000</td>\n",
              "      <td>1528.000000</td>\n",
              "      <td>86.000000</td>\n",
              "      <td>-1.000000</td>\n",
              "      <td>581.000000</td>\n",
              "      <td>6.000000</td>\n",
              "      <td>14.000000</td>\n",
              "      <td>0.000000</td>\n",
              "      <td>0.000000</td>\n",
              "      <td>13.000000</td>\n",
              "      <td>30.000000</td>\n",
              "      <td>13.000000</td>\n",
              "      <td>26.000000</td>\n",
              "      <td>15.000000</td>\n",
              "      <td>29.000000</td>\n",
              "      <td>15.000000</td>\n",
              "      <td>30.000000</td>\n",
              "    </tr>\n",
              "    <tr>\n",
              "      <th>75%</th>\n",
              "      <td>2008.0</td>\n",
              "      <td>9.000000</td>\n",
              "      <td>23.000000</td>\n",
              "      <td>6.000000</td>\n",
              "      <td>3395.000000</td>\n",
              "      <td>132.000000</td>\n",
              "      <td>10.000000</td>\n",
              "      <td>954.000000</td>\n",
              "      <td>8.000000</td>\n",
              "      <td>19.000000</td>\n",
              "      <td>0.000000</td>\n",
              "      <td>0.000000</td>\n",
              "      <td>17.000000</td>\n",
              "      <td>46.000000</td>\n",
              "      <td>17.000000</td>\n",
              "      <td>41.000000</td>\n",
              "      <td>19.000000</td>\n",
              "      <td>45.000000</td>\n",
              "      <td>19.000000</td>\n",
              "      <td>45.000000</td>\n",
              "    </tr>\n",
              "    <tr>\n",
              "      <th>max</th>\n",
              "      <td>2008.0</td>\n",
              "      <td>12.000000</td>\n",
              "      <td>31.000000</td>\n",
              "      <td>7.000000</td>\n",
              "      <td>7828.000000</td>\n",
              "      <td>645.000000</td>\n",
              "      <td>1146.000000</td>\n",
              "      <td>4962.000000</td>\n",
              "      <td>165.000000</td>\n",
              "      <td>317.000000</td>\n",
              "      <td>1.000000</td>\n",
              "      <td>1.000000</td>\n",
              "      <td>24.000000</td>\n",
              "      <td>59.000000</td>\n",
              "      <td>23.000000</td>\n",
              "      <td>59.000000</td>\n",
              "      <td>24.000000</td>\n",
              "      <td>59.000000</td>\n",
              "      <td>24.000000</td>\n",
              "      <td>59.000000</td>\n",
              "    </tr>\n",
              "  </tbody>\n",
              "</table>\n",
              "</div>\n",
              "    <div class=\"colab-df-buttons\">\n",
              "\n",
              "  <div class=\"colab-df-container\">\n",
              "    <button class=\"colab-df-convert\" onclick=\"convertToInteractive('df-b4107ae9-82e2-43ac-9db2-5fcfcafaf5f2')\"\n",
              "            title=\"Convert this dataframe to an interactive table.\"\n",
              "            style=\"display:none;\">\n",
              "\n",
              "  <svg xmlns=\"http://www.w3.org/2000/svg\" height=\"24px\" viewBox=\"0 -960 960 960\">\n",
              "    <path d=\"M120-120v-720h720v720H120Zm60-500h600v-160H180v160Zm220 220h160v-160H400v160Zm0 220h160v-160H400v160ZM180-400h160v-160H180v160Zm440 0h160v-160H620v160ZM180-180h160v-160H180v160Zm440 0h160v-160H620v160Z\"/>\n",
              "  </svg>\n",
              "    </button>\n",
              "\n",
              "  <style>\n",
              "    .colab-df-container {\n",
              "      display:flex;\n",
              "      gap: 12px;\n",
              "    }\n",
              "\n",
              "    .colab-df-convert {\n",
              "      background-color: #E8F0FE;\n",
              "      border: none;\n",
              "      border-radius: 50%;\n",
              "      cursor: pointer;\n",
              "      display: none;\n",
              "      fill: #1967D2;\n",
              "      height: 32px;\n",
              "      padding: 0 0 0 0;\n",
              "      width: 32px;\n",
              "    }\n",
              "\n",
              "    .colab-df-convert:hover {\n",
              "      background-color: #E2EBFA;\n",
              "      box-shadow: 0px 1px 2px rgba(60, 64, 67, 0.3), 0px 1px 3px 1px rgba(60, 64, 67, 0.15);\n",
              "      fill: #174EA6;\n",
              "    }\n",
              "\n",
              "    .colab-df-buttons div {\n",
              "      margin-bottom: 4px;\n",
              "    }\n",
              "\n",
              "    [theme=dark] .colab-df-convert {\n",
              "      background-color: #3B4455;\n",
              "      fill: #D2E3FC;\n",
              "    }\n",
              "\n",
              "    [theme=dark] .colab-df-convert:hover {\n",
              "      background-color: #434B5C;\n",
              "      box-shadow: 0px 1px 3px 1px rgba(0, 0, 0, 0.15);\n",
              "      filter: drop-shadow(0px 1px 2px rgba(0, 0, 0, 0.3));\n",
              "      fill: #FFFFFF;\n",
              "    }\n",
              "  </style>\n",
              "\n",
              "    <script>\n",
              "      const buttonEl =\n",
              "        document.querySelector('#df-b4107ae9-82e2-43ac-9db2-5fcfcafaf5f2 button.colab-df-convert');\n",
              "      buttonEl.style.display =\n",
              "        google.colab.kernel.accessAllowed ? 'block' : 'none';\n",
              "\n",
              "      async function convertToInteractive(key) {\n",
              "        const element = document.querySelector('#df-b4107ae9-82e2-43ac-9db2-5fcfcafaf5f2');\n",
              "        const dataTable =\n",
              "          await google.colab.kernel.invokeFunction('convertToInteractive',\n",
              "                                                    [key], {});\n",
              "        if (!dataTable) return;\n",
              "\n",
              "        const docLinkHtml = 'Like what you see? Visit the ' +\n",
              "          '<a target=\"_blank\" href=https://colab.research.google.com/notebooks/data_table.ipynb>data table notebook</a>'\n",
              "          + ' to learn more about interactive tables.';\n",
              "        element.innerHTML = '';\n",
              "        dataTable['output_type'] = 'display_data';\n",
              "        await google.colab.output.renderOutput(dataTable, element);\n",
              "        const docLink = document.createElement('div');\n",
              "        docLink.innerHTML = docLinkHtml;\n",
              "        element.appendChild(docLink);\n",
              "      }\n",
              "    </script>\n",
              "  </div>\n",
              "\n",
              "\n",
              "    <div id=\"df-042b7ac1-bf3f-4edc-b2b5-403c35fb5474\">\n",
              "      <button class=\"colab-df-quickchart\" onclick=\"quickchart('df-042b7ac1-bf3f-4edc-b2b5-403c35fb5474')\"\n",
              "                title=\"Suggest charts\"\n",
              "                style=\"display:none;\">\n",
              "\n",
              "<svg xmlns=\"http://www.w3.org/2000/svg\" height=\"24px\"viewBox=\"0 0 24 24\"\n",
              "     width=\"24px\">\n",
              "    <g>\n",
              "        <path d=\"M19 3H5c-1.1 0-2 .9-2 2v14c0 1.1.9 2 2 2h14c1.1 0 2-.9 2-2V5c0-1.1-.9-2-2-2zM9 17H7v-7h2v7zm4 0h-2V7h2v10zm4 0h-2v-4h2v4z\"/>\n",
              "    </g>\n",
              "</svg>\n",
              "      </button>\n",
              "\n",
              "<style>\n",
              "  .colab-df-quickchart {\n",
              "      --bg-color: #E8F0FE;\n",
              "      --fill-color: #1967D2;\n",
              "      --hover-bg-color: #E2EBFA;\n",
              "      --hover-fill-color: #174EA6;\n",
              "      --disabled-fill-color: #AAA;\n",
              "      --disabled-bg-color: #DDD;\n",
              "  }\n",
              "\n",
              "  [theme=dark] .colab-df-quickchart {\n",
              "      --bg-color: #3B4455;\n",
              "      --fill-color: #D2E3FC;\n",
              "      --hover-bg-color: #434B5C;\n",
              "      --hover-fill-color: #FFFFFF;\n",
              "      --disabled-bg-color: #3B4455;\n",
              "      --disabled-fill-color: #666;\n",
              "  }\n",
              "\n",
              "  .colab-df-quickchart {\n",
              "    background-color: var(--bg-color);\n",
              "    border: none;\n",
              "    border-radius: 50%;\n",
              "    cursor: pointer;\n",
              "    display: none;\n",
              "    fill: var(--fill-color);\n",
              "    height: 32px;\n",
              "    padding: 0;\n",
              "    width: 32px;\n",
              "  }\n",
              "\n",
              "  .colab-df-quickchart:hover {\n",
              "    background-color: var(--hover-bg-color);\n",
              "    box-shadow: 0 1px 2px rgba(60, 64, 67, 0.3), 0 1px 3px 1px rgba(60, 64, 67, 0.15);\n",
              "    fill: var(--button-hover-fill-color);\n",
              "  }\n",
              "\n",
              "  .colab-df-quickchart-complete:disabled,\n",
              "  .colab-df-quickchart-complete:disabled:hover {\n",
              "    background-color: var(--disabled-bg-color);\n",
              "    fill: var(--disabled-fill-color);\n",
              "    box-shadow: none;\n",
              "  }\n",
              "\n",
              "  .colab-df-spinner {\n",
              "    border: 2px solid var(--fill-color);\n",
              "    border-color: transparent;\n",
              "    border-bottom-color: var(--fill-color);\n",
              "    animation:\n",
              "      spin 1s steps(1) infinite;\n",
              "  }\n",
              "\n",
              "  @keyframes spin {\n",
              "    0% {\n",
              "      border-color: transparent;\n",
              "      border-bottom-color: var(--fill-color);\n",
              "      border-left-color: var(--fill-color);\n",
              "    }\n",
              "    20% {\n",
              "      border-color: transparent;\n",
              "      border-left-color: var(--fill-color);\n",
              "      border-top-color: var(--fill-color);\n",
              "    }\n",
              "    30% {\n",
              "      border-color: transparent;\n",
              "      border-left-color: var(--fill-color);\n",
              "      border-top-color: var(--fill-color);\n",
              "      border-right-color: var(--fill-color);\n",
              "    }\n",
              "    40% {\n",
              "      border-color: transparent;\n",
              "      border-right-color: var(--fill-color);\n",
              "      border-top-color: var(--fill-color);\n",
              "    }\n",
              "    60% {\n",
              "      border-color: transparent;\n",
              "      border-right-color: var(--fill-color);\n",
              "    }\n",
              "    80% {\n",
              "      border-color: transparent;\n",
              "      border-right-color: var(--fill-color);\n",
              "      border-bottom-color: var(--fill-color);\n",
              "    }\n",
              "    90% {\n",
              "      border-color: transparent;\n",
              "      border-bottom-color: var(--fill-color);\n",
              "    }\n",
              "  }\n",
              "</style>\n",
              "\n",
              "      <script>\n",
              "        async function quickchart(key) {\n",
              "          const quickchartButtonEl =\n",
              "            document.querySelector('#' + key + ' button');\n",
              "          quickchartButtonEl.disabled = true;  // To prevent multiple clicks.\n",
              "          quickchartButtonEl.classList.add('colab-df-spinner');\n",
              "          try {\n",
              "            const charts = await google.colab.kernel.invokeFunction(\n",
              "                'suggestCharts', [key], {});\n",
              "          } catch (error) {\n",
              "            console.error('Error during call to suggestCharts:', error);\n",
              "          }\n",
              "          quickchartButtonEl.classList.remove('colab-df-spinner');\n",
              "          quickchartButtonEl.classList.add('colab-df-quickchart-complete');\n",
              "        }\n",
              "        (() => {\n",
              "          let quickchartButtonEl =\n",
              "            document.querySelector('#df-042b7ac1-bf3f-4edc-b2b5-403c35fb5474 button');\n",
              "          quickchartButtonEl.style.display =\n",
              "            google.colab.kernel.accessAllowed ? 'block' : 'none';\n",
              "        })();\n",
              "      </script>\n",
              "    </div>\n",
              "    </div>\n",
              "  </div>\n"
            ],
            "application/vnd.google.colaboratory.intrinsic+json": {
              "type": "dataframe",
              "summary": "{\n  \"name\": \"df\",\n  \"rows\": 8,\n  \"fields\": [\n    {\n      \"column\": \"Year\",\n      \"properties\": {\n        \"dtype\": \"number\",\n        \"std\": 21819.500000818403,\n        \"min\": 0.0,\n        \"max\": 63404.0,\n        \"num_unique_values\": 3,\n        \"samples\": [\n          63404.0,\n          2008.0,\n          0.0\n        ],\n        \"semantic_type\": \"\",\n        \"description\": \"\"\n      }\n    },\n    {\n      \"column\": \"Month\",\n      \"properties\": {\n        \"dtype\": \"number\",\n        \"std\": 22414.637877318677,\n        \"min\": 1.0,\n        \"max\": 63404.0,\n        \"num_unique_values\": 8,\n        \"samples\": [\n          6.403728471389818,\n          6.0,\n          63404.0\n        ],\n        \"semantic_type\": \"\",\n        \"description\": \"\"\n      }\n    },\n    {\n      \"column\": \"DayofMonth\",\n      \"properties\": {\n        \"dtype\": \"number\",\n        \"std\": 22411.47089877232,\n        \"min\": 1.0,\n        \"max\": 63404.0,\n        \"num_unique_values\": 8,\n        \"samples\": [\n          15.739559018358463,\n          16.0,\n          63404.0\n        ],\n        \"semantic_type\": \"\",\n        \"description\": \"\"\n      }\n    },\n    {\n      \"column\": \"DayOfWeek\",\n      \"properties\": {\n        \"dtype\": \"number\",\n        \"std\": 22415.390144062036,\n        \"min\": 1.0,\n        \"max\": 63404.0,\n        \"num_unique_values\": 8,\n        \"samples\": [\n          3.923585262759447,\n          4.0,\n          63404.0\n        ],\n        \"semantic_type\": \"\",\n        \"description\": \"\"\n      }\n    },\n    {\n      \"column\": \"FlightNum\",\n      \"properties\": {\n        \"dtype\": \"number\",\n        \"std\": 21667.851217201944,\n        \"min\": 1.0,\n        \"max\": 63404.0,\n        \"num_unique_values\": 8,\n        \"samples\": [\n          2172.5643334805377,\n          1528.0,\n          63404.0\n        ],\n        \"semantic_type\": \"\",\n        \"description\": \"\"\n      }\n    },\n    {\n      \"column\": \"AirTime\",\n      \"properties\": {\n        \"dtype\": \"number\",\n        \"std\": 22304.45382312979,\n        \"min\": 3.0,\n        \"max\": 63240.0,\n        \"num_unique_values\": 8,\n        \"samples\": [\n          103.90512333965845,\n          86.0,\n          63240.0\n        ],\n        \"semantic_type\": \"\",\n        \"description\": \"\"\n      }\n    },\n    {\n      \"column\": \"DepDelay\",\n      \"properties\": {\n        \"dtype\": \"number\",\n        \"std\": 22362.12471596124,\n        \"min\": -45.0,\n        \"max\": 63404.0,\n        \"num_unique_values\": 8,\n        \"samples\": [\n          10.774414863415558,\n          -1.0,\n          63404.0\n        ],\n        \"semantic_type\": \"\",\n        \"description\": \"\"\n      }\n    },\n    {\n      \"column\": \"Distance\",\n      \"properties\": {\n        \"dtype\": \"number\",\n        \"std\": 22061.258787188817,\n        \"min\": 31.0,\n        \"max\": 63404.0,\n        \"num_unique_values\": 8,\n        \"samples\": [\n          729.5409122452842,\n          581.0,\n          63404.0\n        ],\n        \"semantic_type\": \"\",\n        \"description\": \"\"\n      }\n    },\n    {\n      \"column\": \"TaxiIn\",\n      \"properties\": {\n        \"dtype\": \"number\",\n        \"std\": 22357.43576089851,\n        \"min\": 0.0,\n        \"max\": 63264.0,\n        \"num_unique_values\": 8,\n        \"samples\": [\n          6.86271813353566,\n          6.0,\n          63264.0\n        ],\n        \"semantic_type\": \"\",\n        \"description\": \"\"\n      }\n    },\n    {\n      \"column\": \"TaxiOut\",\n      \"properties\": {\n        \"dtype\": \"number\",\n        \"std\": 22394.891814880444,\n        \"min\": 0.0,\n        \"max\": 63397.0,\n        \"num_unique_values\": 8,\n        \"samples\": [\n          16.438127987128727,\n          14.0,\n          63397.0\n        ],\n        \"semantic_type\": \"\",\n        \"description\": \"\"\n      }\n    },\n    {\n      \"column\": \"Cancelled\",\n      \"properties\": {\n        \"dtype\": \"number\",\n        \"std\": 22416.647967921686,\n        \"min\": 0.0,\n        \"max\": 63404.0,\n        \"num_unique_values\": 5,\n        \"samples\": [\n          0.000189262507097344,\n          1.0,\n          0.013756077613456558\n        ],\n        \"semantic_type\": \"\",\n        \"description\": \"\"\n      }\n    },\n    {\n      \"column\": \"Diverted\",\n      \"properties\": {\n        \"dtype\": \"number\",\n        \"std\": 22416.64608112399,\n        \"min\": 0.0,\n        \"max\": 63404.0,\n        \"num_unique_values\": 5,\n        \"samples\": [\n          0.002397325089899691,\n          1.0,\n          0.048904147498752805\n        ],\n        \"semantic_type\": \"\",\n        \"description\": \"\"\n      }\n    },\n    {\n      \"column\": \"DepTime_Hour\",\n      \"properties\": {\n        \"dtype\": \"number\",\n        \"std\": 22412.61659115636,\n        \"min\": 0.0,\n        \"max\": 63404.0,\n        \"num_unique_values\": 8,\n        \"samples\": [\n          13.062787836729544,\n          13.0,\n          63404.0\n        ],\n        \"semantic_type\": \"\",\n        \"description\": \"\"\n      }\n    },\n    {\n      \"column\": \"DepTime_Minute\",\n      \"properties\": {\n        \"dtype\": \"number\",\n        \"std\": 22406.715431466826,\n        \"min\": 0.0,\n        \"max\": 63404.0,\n        \"num_unique_values\": 8,\n        \"samples\": [\n          30.12134881080058,\n          30.0,\n          63404.0\n        ],\n        \"semantic_type\": \"\",\n        \"description\": \"\"\n      }\n    },\n    {\n      \"column\": \"CRSDepTime_Hour\",\n      \"properties\": {\n        \"dtype\": \"number\",\n        \"std\": 22412.67827340888,\n        \"min\": 0.0,\n        \"max\": 63404.0,\n        \"num_unique_values\": 8,\n        \"samples\": [\n          13.011056084789603,\n          13.0,\n          63404.0\n        ],\n        \"semantic_type\": \"\",\n        \"description\": \"\"\n      }\n    },\n    {\n      \"column\": \"CRSDepTime_Minute\",\n      \"properties\": {\n        \"dtype\": \"number\",\n        \"std\": 22407.58803421126,\n        \"min\": 0.0,\n        \"max\": 63404.0,\n        \"num_unique_values\": 8,\n        \"samples\": [\n          26.697889723045865,\n          26.0,\n          63404.0\n        ],\n        \"semantic_type\": \"\",\n        \"description\": \"\"\n      }\n    },\n    {\n      \"column\": \"ArrTime_Hour\",\n      \"properties\": {\n        \"dtype\": \"number\",\n        \"std\": 22362.72801312702,\n        \"min\": 0.0,\n        \"max\": 63264.0,\n        \"num_unique_values\": 8,\n        \"samples\": [\n          14.530775796661608,\n          15.0,\n          63264.0\n        ],\n        \"semantic_type\": \"\",\n        \"description\": \"\"\n      }\n    },\n    {\n      \"column\": \"ArrTime_Minute\",\n      \"properties\": {\n        \"dtype\": \"number\",\n        \"std\": 22357.37134951006,\n        \"min\": 0.0,\n        \"max\": 63264.0,\n        \"num_unique_values\": 8,\n        \"samples\": [\n          29.469461305007588,\n          29.0,\n          63264.0\n        ],\n        \"semantic_type\": \"\",\n        \"description\": \"\"\n      }\n    },\n    {\n      \"column\": \"CRSArrTime_Hour\",\n      \"properties\": {\n        \"dtype\": \"number\",\n        \"std\": 22412.23056836888,\n        \"min\": 0.0,\n        \"max\": 63404.0,\n        \"num_unique_values\": 8,\n        \"samples\": [\n          14.677149706643114,\n          15.0,\n          63404.0\n        ],\n        \"semantic_type\": \"\",\n        \"description\": \"\"\n      }\n    },\n    {\n      \"column\": \"CRSArrTime_Minute\",\n      \"properties\": {\n        \"dtype\": \"number\",\n        \"std\": 22406.83527044245,\n        \"min\": 0.0,\n        \"max\": 63404.0,\n        \"num_unique_values\": 8,\n        \"samples\": [\n          28.89753012428238,\n          30.0,\n          63404.0\n        ],\n        \"semantic_type\": \"\",\n        \"description\": \"\"\n      }\n    }\n  ]\n}"
            }
          },
          "metadata": {},
          "execution_count": 37
        }
      ]
    },
    {
      "cell_type": "code",
      "execution_count": 36,
      "metadata": {
        "collapsed": true,
        "id": "oUCTD3G9mZly"
      },
      "outputs": [],
      "source": [
        "# Your code here\n",
        "high_corr_columns = ['ArrDelay', 'ActualElapsedTime', 'CRSElapsedTime', 'CarrierDelay',\n",
        "                    'WeatherDelay', 'NASDelay', 'SecurityDelay', 'LateAircraftDelay']\n",
        "df = df.drop(columns=high_corr_columns, errors='ignore')"
      ]
    },
    {
      "cell_type": "markdown",
      "metadata": {
        "id": "VjigFXDnmZly"
      },
      "source": [
        "**15. (1 балл)** Приведем данные к виду, пригодному для обучения линейных моделей. Для этого вещественные признаки надо отмасштабировать, а категориальные — привести к числовому виду. Также надо устранить пропуски в данных."
      ]
    },
    {
      "cell_type": "markdown",
      "metadata": {
        "id": "14vwquhJmZlz"
      },
      "source": [
        "В первую очередь поймем, зачем необходимо применять масштабирование. Следующие ячейки с кодом построят гистограммы для 3 вещественных признаков выборки."
      ]
    },
    {
      "cell_type": "code",
      "execution_count": 38,
      "metadata": {
        "scrolled": true,
        "id": "DBTA1TC6mZlz",
        "colab": {
          "base_uri": "https://localhost:8080/",
          "height": 447
        },
        "outputId": "239bee1d-5337-40e7-f906-647b7ea3c469"
      },
      "outputs": [
        {
          "output_type": "execute_result",
          "data": {
            "text/plain": [
              "<Axes: >"
            ]
          },
          "metadata": {},
          "execution_count": 38
        },
        {
          "output_type": "display_data",
          "data": {
            "text/plain": [
              "<Figure size 640x480 with 1 Axes>"
            ],
            "image/png": "[encoded data removed]"
          },
          "metadata": {}
        }
      ],
      "source": [
        "df['DepTime_Hour'].hist(bins=20)"
      ]
    },
    {
      "cell_type": "code",
      "execution_count": 39,
      "metadata": {
        "id": "92nBAkAbmZmN",
        "colab": {
          "base_uri": "https://localhost:8080/",
          "height": 447
        },
        "outputId": "d75558dc-9695-4d53-f5bc-04a837c8fcc0"
      },
      "outputs": [
        {
          "output_type": "execute_result",
          "data": {
            "text/plain": [
              "<Axes: >"
            ]
          },
          "metadata": {},
          "execution_count": 39
        },
        {
          "output_type": "display_data",
          "data": {
            "text/plain": [
              "<Figure size 640x480 with 1 Axes>"
            ],
            "image/png": "[encoded data removed]"
          },
          "metadata": {}
        }
      ],
      "source": [
        "df['TaxiIn'].hist(bins=20)"
      ]
    },
    {
      "cell_type": "code",
      "execution_count": 40,
      "metadata": {
        "id": "c69rISGamZmO",
        "colab": {
          "base_uri": "https://localhost:8080/",
          "height": 447
        },
        "outputId": "b7b9b440-06b0-4019-f3a9-86c0d63452e3"
      },
      "outputs": [
        {
          "output_type": "execute_result",
          "data": {
            "text/plain": [
              "<Axes: >"
            ]
          },
          "metadata": {},
          "execution_count": 40
        },
        {
          "output_type": "display_data",
          "data": {
            "text/plain": [
              "<Figure size 640x480 with 1 Axes>"
            ],
            "image/png": "[encoded data removed]"
          },
          "metadata": {}
        }
      ],
      "source": [
        "df['FlightNum'].hist(bins=20)"
      ]
    },
    {
      "cell_type": "markdown",
      "metadata": {
        "id": "xJr0D1womZmO"
      },
      "source": [
        "Какую проблему вы наблюдаете на этих графиках? Как масштабирование поможет её исправить?"
      ]
    },
    {
      "cell_type": "raw",
      "metadata": {
        "id": "5tbjfB9NmZmP"
      },
      "source": []
    },
    {
      "cell_type": "markdown",
      "metadata": {
        "id": "ONfjyjk-mZmP"
      },
      "source": [
        "Некоторые из признаков в нашем датасете являются категориальными. Типичным подходом к работе с ними является бинарное, или [one-hot-кодирование](https://en.wikipedia.org/wiki/One-hot).\n",
        "\n",
        "Реализуйте функцию transform_data, которая принимает на вход DataFrame с признаками и выполняет следующие шаги:\n",
        "1. Замена пропущенных значений на нули для вещественных признаков и на строки 'nan' для категориальных.\n",
        "2. Масштабирование вещественных признаков с помощью [StandardScaler](http://scikit-learn.org/stable/modules/generated/sklearn.preprocessing.StandardScaler.html).\n",
        "3. One-hot-кодирование категориальных признаков с помощью [DictVectorizer](http://scikit-learn.org/stable/modules/generated/sklearn.feature_extraction.DictVectorizer.html) или функции [pd.get_dummies](http://pandas.pydata.org/pandas-docs/stable/generated/pandas.get_dummies.html).\n",
        "\n",
        "Метод должен возвращать преобразованный DataFrame, который должна состоять из масштабированных вещественных признаков и закодированных категориальных (исходные признаки должны быть исключены из выборки)."
      ]
    },
    {
      "cell_type": "code",
      "execution_count": 45,
      "metadata": {
        "collapsed": true,
        "id": "quO_MqYAmZmP"
      },
      "outputs": [],
      "source": [
        "import numpy as np\n",
        "import pandas as pd\n",
        "from sklearn.preprocessing import StandardScaler\n",
        "from sklearn.model_selection import train_test_split, GridSearchCV, KFold\n",
        "from sklearn.linear_model import LinearRegression, Lasso, Ridge, LassoCV, RidgeCV\n",
        "from sklearn.metrics import mean_squared_error, mean_absolute_error, r2_score\n",
        "import matplotlib.pyplot as plt\n",
        "\n",
        "def transform_data(data):\n",
        "    data = data.copy()\n",
        "\n",
        "    numeric_features = data.select_dtypes(include=[np.number]).columns.tolist()\n",
        "    categorical_features = data.select_dtypes(include=['object']).columns.tolist()\n",
        "\n",
        "    for col in numeric_features:\n",
        "        data[col] = data[col].fillna(0)\n",
        "    for col in categorical_features:\n",
        "        data[col] = data[col].fillna('nan')\n",
        "\n",
        "    scaler = StandardScaler()\n",
        "    if numeric_features:\n",
        "        data[numeric_features] = scaler.fit_transform(data[numeric_features])\n",
        "\n",
        "    if categorical_features:\n",
        "        categorical_dummies = pd.get_dummies(data[categorical_features])\n",
        "        data = pd.concat([data[numeric_features], categorical_dummies], axis=1)\n",
        "    else:\n",
        "        data = data[numeric_features]\n",
        "\n",
        "    return data"
      ]
    },
    {
      "cell_type": "markdown",
      "metadata": {
        "id": "JFxTrXwQmZmQ"
      },
      "source": [
        "Примените функцию transform_data к данным. Сколько признаков получилось после преобразования?"
      ]
    },
    {
      "cell_type": "code",
      "execution_count": 47,
      "metadata": {
        "collapsed": true,
        "id": "B3BMoeGhmZmj",
        "colab": {
          "base_uri": "https://localhost:8080/"
        },
        "outputId": "63962f90-e883-4c0c-b477-a001bf510d18"
      },
      "outputs": [
        {
          "output_type": "stream",
          "name": "stdout",
          "text": [
            "5744\n"
          ]
        }
      ],
      "source": [
        "# Your code here\n",
        "X_transformed = transform_data(df)\n",
        "print(X_transformed.shape[1])\n"
      ]
    },
    {
      "cell_type": "markdown",
      "metadata": {
        "id": "O7v4WxKmmZmj"
      },
      "source": [
        "**16. (0.5 балла)** Разбейте выборку и вектор целевой переменной на обучение и контроль в отношении 70/30 (для этого можно использовать, например, функцию [train_test_split](http://scikit-learn.org/stable/modules/generated/sklearn.cross_validation.train_test_split.html))."
      ]
    },
    {
      "cell_type": "code",
      "execution_count": 49,
      "metadata": {
        "collapsed": true,
        "id": "rKPfqBM0mZmk"
      },
      "outputs": [],
      "source": [
        "# Your code here\n",
        "y = df['DepDelay']\n",
        "\n",
        "X_train, X_test, y_train, y_test = train_test_split(\n",
        "    X_transformed, y, test_size=0.3, random_state=42\n",
        ")"
      ]
    },
    {
      "cell_type": "markdown",
      "metadata": {
        "id": "JSyGeggKmZmk"
      },
      "source": [
        "### Scikit-learn\n",
        "\n",
        "<img src = \"https://pp.vk.me/c4534/u35727827/93547647/x_d31c4463.jpg\">\n",
        "Теперь, когда мы привели данные к пригодному виду, попробуем решить задачу при помощи метода наименьших квадратов. Напомним, что данный метод заключается в оптимизации функционала $MSE$:\n",
        "\n",
        "$$MSE(X, y) = \\frac{1}{l} \\sum_{i=1}^l (<w, x_i> - y_i)^2 \\to \\min_{w},$$\n",
        "\n",
        "где $\\{ (x_i, y_i ) \\}_{i=1}^l$ — обучающая выборка, состоящая из $l$ пар объект-ответ.\n",
        "\n",
        "Заметим, что решение данной задачи уже реализовано в модуле sklearn в виде класса [LinearRegression](http://scikit-learn.org/stable/modules/generated/sklearn.linear_model.LinearRegression.html#sklearn.linear_model.LinearRegression).\n",
        "\n",
        "**17. (0.5 балла)** Обучите линейную регрессию на 1000 объектах из обучающей выборки и выведите значения $MSE$ и $R^2$ на этой подвыборке и контрольной выборке (итого 4 различных числа). Проинтерпретируйте полученный результат — насколько качественные прогнозы строит полученная модель? Какие проблемы наблюдаются в модели?\n",
        "\n",
        "**Подсказка**: изучите значения полученных коэффициентов $w$, сохраненных в атрибуте coef_ объекта LinearRegression."
      ]
    },
    {
      "cell_type": "code",
      "execution_count": 51,
      "metadata": {
        "collapsed": true,
        "id": "EqbUEtUumZml",
        "colab": {
          "base_uri": "https://localhost:8080/"
        },
        "outputId": "2de2504c-b4c3-4dfc-bf9d-a7afaf3e825e"
      },
      "outputs": [
        {
          "output_type": "stream",
          "name": "stdout",
          "text": [
            "MSE: 8.332711867211857e-26\n",
            "MSE: 0.0018706656530943155\n",
            "R2: 1.0\n",
            "R2: 0.9999986015481377\n"
          ]
        }
      ],
      "source": [
        "# Your code here\n",
        "X_train_sub = X_train[:1000]\n",
        "y_train_sub = y_train[:1000]\n",
        "\n",
        "lr = LinearRegression()\n",
        "lr.fit(X_train_sub, y_train_sub)\n",
        "\n",
        "train_pred = lr.predict(X_train_sub)\n",
        "test_pred = lr.predict(X_test)\n",
        "\n",
        "print(\"MSE:\", mean_squared_error(y_train_sub, train_pred))\n",
        "print(\"MSE:\", mean_squared_error(y_test, test_pred))\n",
        "print(\"R2:\", r2_score(y_train_sub, train_pred))\n",
        "print(\"R2:\", r2_score(y_test, test_pred))"
      ]
    },
    {
      "cell_type": "markdown",
      "metadata": {
        "collapsed": true,
        "id": "GAK2GU35mZml"
      },
      "source": [
        "Для решения описанных вами в предыдущем пункте проблем используем L1- или L2-регуляризацию, тем самым получив Lasso и Ridge регрессии соответственно и изменив оптимизационную задачу одним из следующих образов:\n",
        "$$MSE_{L1}(X, y) = \\frac{1}{l} \\sum_{i=1}^l (<w, x_i> - y_i)^2 + \\alpha ||w||_1 \\to \\min_{w},$$\n",
        "$$MSE_{L2}(X, y) = \\frac{1}{l} \\sum_{i=1}^l (<w, x_i> - y_i)^2 + \\alpha ||w||_2^2 \\to \\min_{w},$$\n",
        "\n",
        "где $\\alpha$ — коэффициент регуляризации. Один из способов его подбора заключается в переборе некоторого количества значений и оценке качества на кросс-валидации для каждого из них, после чего выбирается значение, для которого было получено наилучшее качество."
      ]
    },
    {
      "cell_type": "markdown",
      "metadata": {
        "id": "NIfDFWFvmZmn"
      },
      "source": [
        "__18. (1 балл) __ Обучение линейной регрессии.\n",
        "\n",
        "\n",
        "\n",
        "Обучите линейную регрессию с $L_1$ (Lasso) и $L_2$ (Ridge) регуляризаторами (используйте параметры по умолчанию). Посмотрите, какое количество коэффициентов близко к 0 (степень близости к 0 определите сами из разумных пределов). Постройте график зависимости числа ненулевых коэффициентов от коэффицента регуляризации (перебирайте значения по логарифмической сетке от $10^{-3}$ до $10^3$). Согласуются ли результаты с вашими ожиданиями?"
      ]
    },
    {
      "cell_type": "code",
      "execution_count": 52,
      "metadata": {
        "collapsed": true,
        "id": "JoveMt_BmZmn",
        "colab": {
          "base_uri": "https://localhost:8080/",
          "height": 569
        },
        "outputId": "71aba09b-9b58-4fc5-e2e8-2a2c8085bf7f"
      },
      "outputs": [
        {
          "output_type": "display_data",
          "data": {
            "text/plain": [
              "<Figure size 1200x600 with 2 Axes>"
            ],
            "image/png": "[encoded data removed]"
          },
          "metadata": {}
        }
      ],
      "source": [
        "alphas = np.logspace(-3, 3, 50)\n",
        "nonzero_coeffs_l1 = []\n",
        "nonzero_coeffs_l2 = []\n",
        "\n",
        "for alpha in alphas:\n",
        "    lasso = Lasso(alpha=alpha)\n",
        "    ridge = Ridge(alpha=alpha)\n",
        "\n",
        "    lasso.fit(X_train_sub, y_train_sub)\n",
        "    ridge.fit(X_train_sub, y_train_sub)\n",
        "\n",
        "    nonzero_coeffs_l1.append(np.sum(np.abs(lasso.coef_) > 1e-6))\n",
        "    nonzero_coeffs_l2.append(np.sum(np.abs(ridge.coef_) > 1e-6))\n",
        "\n",
        "plt.figure(figsize=(12, 6))\n",
        "plt.subplot(1, 2, 1)\n",
        "plt.semilogx(alphas, nonzero_coeffs_l1)\n",
        "plt.title('Lasso: число ненулевых коэффициентов')\n",
        "plt.xlabel('alpha')\n",
        "plt.ylabel('Число ненулевых коэффициентов')\n",
        "\n",
        "plt.subplot(1, 2, 2)\n",
        "plt.semilogx(alphas, nonzero_coeffs_l2)\n",
        "plt.title('Ridge: число \"больших\" коэффициентов')\n",
        "plt.xlabel('alpha')\n",
        "plt.ylabel('Число коэффициентов > 1e-6')\n",
        "plt.show()"
      ]
    },
    {
      "cell_type": "markdown",
      "metadata": {
        "id": "dCiAsN2hmZmo"
      },
      "source": [
        "Посчитайте для Ridge-регрессии следующие метрики: $RMSE$, $MAE$, $R^2$."
      ]
    },
    {
      "cell_type": "code",
      "execution_count": 53,
      "metadata": {
        "collapsed": true,
        "id": "c5_1wxERmZmo",
        "colab": {
          "base_uri": "https://localhost:8080/"
        },
        "outputId": "ee21c053-23da-4b86-9fc9-2810f89f27d3"
      },
      "outputs": [
        {
          "output_type": "stream",
          "name": "stdout",
          "text": [
            "Ridge RMSE: 0.13489526602389418\n",
            "Ridge MAE: 0.07461470714555743\n",
            "Ridge R2: 0.9999863966846112\n"
          ]
        }
      ],
      "source": [
        "# Your code here\n",
        "\n",
        "ridge_best = Ridge(alpha=1.0)\n",
        "ridge_best.fit(X_train_sub, y_train_sub)\n",
        "ridge_pred = ridge_best.predict(X_test)\n",
        "\n",
        "print(\"Ridge RMSE:\", np.sqrt(mean_squared_error(y_test, ridge_pred)))\n",
        "print(\"Ridge MAE:\", mean_absolute_error(y_test, ridge_pred))\n",
        "print(\"Ridge R2:\", r2_score(y_test, ridge_pred))"
      ]
    },
    {
      "cell_type": "markdown",
      "metadata": {
        "id": "R575R3XymZmp"
      },
      "source": [
        "Подберите на обучающей выборке для Ridge-регрессии коэффициент регуляризации (перебирайте значения по логарифмической сетке от $10^{-3}$ до $10^3$) для каждой из метрик при помощи кросс-валидации c 5 фолдами на тех же 1000 объектах. Для этого воспользуйтесь GridSearchCV и KFold из sklearn. Постройте графики зависимости фукнции потерь от коэффициента регуляризации. Посчитайте те же метрики снова. Заметно ли изменилось качество?\n",
        "\n",
        "Для выполнения данного задания вам могут понадобиться реализованные в библиотеке объекты [LassoCV](http://scikit-learn.org/stable/modules/generated/sklearn.linear_model.LassoCV.html), [RidgeCV](http://scikit-learn.org/stable/modules/generated/sklearn.linear_model.RidgeCV.html) и [KFold](http://scikit-learn.org/stable/modules/generated/sklearn.cross_validation.KFold.html)."
      ]
    },
    {
      "cell_type": "code",
      "execution_count": 54,
      "metadata": {
        "collapsed": true,
        "id": "1SMVzTycmZmp",
        "colab": {
          "base_uri": "https://localhost:8080/"
        },
        "outputId": "6b50f2bb-7ebb-44b9-e0f8-bf760019e180"
      },
      "outputs": [
        {
          "output_type": "stream",
          "name": "stdout",
          "text": [
            "Лучший alpha: 0.001\n",
            "Улучшенный Ridge RMSE: 0.04438564982301583\n",
            "Улучшенный Ridge MAE: 0.029691715948231986\n",
            "Улучшенный Ridge R2: 0.9999985272246243\n"
          ]
        }
      ],
      "source": [
        "param_grid = {'alpha': alphas}\n",
        "ridge_cv = GridSearchCV(Ridge(), param_grid, cv=5, scoring='neg_mean_squared_error')\n",
        "ridge_cv.fit(X_train_sub, y_train_sub)\n",
        "\n",
        "best_ridge = ridge_cv.best_estimator_\n",
        "best_pred = best_ridge.predict(X_test)\n",
        "\n",
        "print(\"Лучший alpha:\", ridge_cv.best_params_['alpha'])\n",
        "print(\"Улучшенный Ridge RMSE:\", np.sqrt(mean_squared_error(y_test, best_pred)))\n",
        "print(\"Улучшенный Ridge MAE:\", mean_absolute_error(y_test, best_pred))\n",
        "print(\"Улучшенный Ridge R2:\", r2_score(y_test, best_pred))"
      ]
    },
    {
      "cell_type": "markdown",
      "metadata": {
        "collapsed": true,
        "id": "uF3CEkoxmZmq"
      },
      "source": [
        "__19. (0.5 балла)__ Поиск объектов-выбросов\n",
        "\n",
        "\n",
        "Как известно, MSE сильно штрафует за большие ошибки на объектах-выбросах. С помощью cross_val_predict сделайте Out-of-Fold предсказания для обучающей выборки. Посчитайте ошибки и посмотрите на их распределение (plt.hist). Что вы видите?"
      ]
    },
    {
      "cell_type": "code",
      "execution_count": 55,
      "metadata": {
        "id": "lBTbbdEgmZmq",
        "colab": {
          "base_uri": "https://localhost:8080/",
          "height": 472
        },
        "outputId": "608f9064-c96a-4868-8caa-88f4119bf88b"
      },
      "outputs": [
        {
          "output_type": "display_data",
          "data": {
            "text/plain": [
              "<Figure size 640x480 with 1 Axes>"
            ],
            "image/png": "[encoded data removed]"
          },
          "metadata": {}
        }
      ],
      "source": [
        "from sklearn.model_selection import cross_val_predict\n",
        "\n",
        "cv_pred = cross_val_predict(Ridge(alpha=1.0), X_train_sub, y_train_sub, cv=5)\n",
        "errors = y_train_sub - cv_pred\n",
        "\n",
        "plt.hist(errors, bins=50)\n",
        "plt.title('Распределение ошибок OOF-предсказаний')\n",
        "plt.xlabel('Ошибка')\n",
        "plt.ylabel('Частота')\n",
        "plt.show()"
      ]
    }
  ],
  "metadata": {
    "kernelspec": {
      "display_name": "Python 3 (ipykernel)",
      "language": "python",
      "name": "python3"
    },
    "language_info": {
      "codemirror_mode": {
        "name": "ipython",
        "version": 3
      },
      "file_extension": ".py",
      "mimetype": "text/x-python",
      "name": "python",
      "nbconvert_exporter": "python",
      "pygments_lexer": "ipython3",
      "version": "3.10.11"
    },
    "colab": {
      "provenance": []
    }
  },
  "nbformat": 4,
  "nbformat_minor": 0
}